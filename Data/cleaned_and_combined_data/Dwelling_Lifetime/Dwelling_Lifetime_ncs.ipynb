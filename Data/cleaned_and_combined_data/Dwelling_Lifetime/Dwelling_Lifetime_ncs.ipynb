{
 "cells": [
  {
   "cell_type": "markdown",
   "metadata": {},
   "source": [
    "The raw data of dwelling lifetime is not cleaned even though it also contain year 2051-2100.\n",
    "The standard deviation for 1600-1799 is modelled with regression and merged into the data.\n",
    "The same is done for average lifetime. The trend was linear for the raw data and therefore linear regression was chosen."
   ]
  },
  {
   "cell_type": "markdown",
   "metadata": {},
   "source": [
    "The linear relationship can be expressed with this function (from warm_up_15):\n",
    "\n",
    "\\begin{equation}\n",
    "    \\textbf{Y} = \\beta \\textbf{X}+ \\epsilon\n",
    "\\end{equation}\n",
    "\n",
    "To do the regression B must be found."
   ]
  },
  {
   "cell_type": "code",
   "execution_count": 39,
   "metadata": {},
   "outputs": [],
   "source": [
    "# All imports\n",
    "import numpy as np\n",
    "import pandas as pd\n",
    "import matplotlib as plt\n",
    "from scipy.stats import norm #for normal distribution\n",
    "#import statsmodels.api as sm #for linear regression\n",
    "import matplotlib.pyplot as plt\n",
    "import math as ma\n",
    "\n",
    "import os\n",
    "from pathlib import Path\n",
    "import copy\n",
    "import matplotlib.pyplot as plt\n",
    "from datetime import datetime\n",
    "import sys\n",
    "from scipy.optimize import curve_fit"
   ]
  },
  {
   "cell_type": "code",
   "execution_count": 40,
   "metadata": {},
   "outputs": [],
   "source": [
    "#* Define paths\n",
    "directory_path = Path('../../../')"
   ]
  },
  {
   "cell_type": "code",
   "execution_count": 41,
   "metadata": {},
   "outputs": [
    {
     "data": {
      "text/html": [
       "<div>\n",
       "<style scoped>\n",
       "    .dataframe tbody tr th:only-of-type {\n",
       "        vertical-align: middle;\n",
       "    }\n",
       "\n",
       "    .dataframe tbody tr th {\n",
       "        vertical-align: top;\n",
       "    }\n",
       "\n",
       "    .dataframe thead th {\n",
       "        text-align: right;\n",
       "    }\n",
       "</style>\n",
       "<table border=\"1\" class=\"dataframe\">\n",
       "  <thead>\n",
       "    <tr style=\"text-align: right;\">\n",
       "      <th></th>\n",
       "      <th>year</th>\n",
       "      <th>lifetime</th>\n",
       "      <th>sigma</th>\n",
       "    </tr>\n",
       "  </thead>\n",
       "  <tbody>\n",
       "    <tr>\n",
       "      <th>246</th>\n",
       "      <td>2046</td>\n",
       "      <td>96</td>\n",
       "      <td>0.201818</td>\n",
       "    </tr>\n",
       "    <tr>\n",
       "      <th>247</th>\n",
       "      <td>2047</td>\n",
       "      <td>96</td>\n",
       "      <td>0.201818</td>\n",
       "    </tr>\n",
       "    <tr>\n",
       "      <th>248</th>\n",
       "      <td>2048</td>\n",
       "      <td>96</td>\n",
       "      <td>0.201818</td>\n",
       "    </tr>\n",
       "    <tr>\n",
       "      <th>249</th>\n",
       "      <td>2049</td>\n",
       "      <td>96</td>\n",
       "      <td>0.201818</td>\n",
       "    </tr>\n",
       "    <tr>\n",
       "      <th>250</th>\n",
       "      <td>2050</td>\n",
       "      <td>96</td>\n",
       "      <td>0.201818</td>\n",
       "    </tr>\n",
       "  </tbody>\n",
       "</table>\n",
       "</div>"
      ],
      "text/plain": [
       "     year  lifetime     sigma\n",
       "246  2046        96  0.201818\n",
       "247  2047        96  0.201818\n",
       "248  2048        96  0.201818\n",
       "249  2049        96  0.201818\n",
       "250  2050        96  0.201818"
      ]
     },
     "execution_count": 41,
     "metadata": {},
     "output_type": "execute_result"
    }
   ],
   "source": [
    "raw_data = pd.read_excel(\n",
    "    directory_path / 'data' / 'raw_data' / 'Dwelling_Lifetime' / 'lifetime_raw_data_new.xlsx',\n",
    "    header=0)\n",
    "\n",
    "new_header = ['year', 'lifetime', 'sigma'] # Assigning new names to the header\n",
    "raw_data.columns = new_header\n",
    "\n",
    "# Remove the last 50 rows (years 2051-2100)\n",
    "raw_data = raw_data.iloc[:-50]\n",
    "\n",
    "# defining the parameters as np.arrays\n",
    "year = np.array(raw_data.year)\n",
    "lifetime = np.array(raw_data.lifetime)\n",
    "sigma = np.array(raw_data.sigma)\n",
    "\n",
    "# Display the DataFrame with updated column names\n",
    "raw_data.tail()"
   ]
  },
  {
   "cell_type": "code",
   "execution_count": 42,
   "metadata": {},
   "outputs": [
    {
     "data": {
      "text/html": [
       "<div>\n",
       "<style scoped>\n",
       "    .dataframe tbody tr th:only-of-type {\n",
       "        vertical-align: middle;\n",
       "    }\n",
       "\n",
       "    .dataframe tbody tr th {\n",
       "        vertical-align: top;\n",
       "    }\n",
       "\n",
       "    .dataframe thead th {\n",
       "        text-align: right;\n",
       "    }\n",
       "</style>\n",
       "<table border=\"1\" class=\"dataframe\">\n",
       "  <thead>\n",
       "    <tr style=\"text-align: right;\">\n",
       "      <th></th>\n",
       "      <th>year</th>\n",
       "      <th>lifetime</th>\n",
       "      <th>std_dev</th>\n",
       "    </tr>\n",
       "  </thead>\n",
       "  <tbody>\n",
       "    <tr>\n",
       "      <th>0</th>\n",
       "      <td>1800</td>\n",
       "      <td>150</td>\n",
       "      <td>45.0</td>\n",
       "    </tr>\n",
       "    <tr>\n",
       "      <th>1</th>\n",
       "      <td>1801</td>\n",
       "      <td>150</td>\n",
       "      <td>45.0</td>\n",
       "    </tr>\n",
       "    <tr>\n",
       "      <th>2</th>\n",
       "      <td>1802</td>\n",
       "      <td>150</td>\n",
       "      <td>45.0</td>\n",
       "    </tr>\n",
       "    <tr>\n",
       "      <th>3</th>\n",
       "      <td>1803</td>\n",
       "      <td>150</td>\n",
       "      <td>45.0</td>\n",
       "    </tr>\n",
       "    <tr>\n",
       "      <th>4</th>\n",
       "      <td>1804</td>\n",
       "      <td>150</td>\n",
       "      <td>45.0</td>\n",
       "    </tr>\n",
       "  </tbody>\n",
       "</table>\n",
       "</div>"
      ],
      "text/plain": [
       "   year  lifetime  std_dev\n",
       "0  1800       150     45.0\n",
       "1  1801       150     45.0\n",
       "2  1802       150     45.0\n",
       "3  1803       150     45.0\n",
       "4  1804       150     45.0"
      ]
     },
     "execution_count": 42,
     "metadata": {},
     "output_type": "execute_result"
    }
   ],
   "source": [
    "#Calculate standard devision column by multiplying mean lifetime with sigma:\n",
    "raw_data['std_dev'] = raw_data['lifetime'] * raw_data['sigma']\n",
    "std_dev = raw_data['std_dev']\n",
    "\n",
    "# Remove the 'sigma' column\n",
    "raw_data = raw_data.drop('sigma', axis=1)\n",
    "\n",
    "raw_data.head()"
   ]
  },
  {
   "cell_type": "code",
   "execution_count": 43,
   "metadata": {},
   "outputs": [],
   "source": [
    "# Save the cleaned dataframe to a new Excel file\n",
    "raw_data.to_excel(directory_path / \n",
    "                 'Data/cleaned_and_combined_data/Dwelling_Lifetime/Cleaned_Dwelling_Lifetime.xlsx')"
   ]
  },
  {
   "cell_type": "code",
   "execution_count": 44,
   "metadata": {},
   "outputs": [
    {
     "data": {
      "text/plain": [
       "\"#Plot of the raw data for standard deviation without regression\\nplt.figure(figsize=(16,10))\\nplt.plot(year, std_dev, color = 'black', markersize = 5, label = f'Raw data for standard deviation')\\nplt.xlabel('Year')\\nplt.ylabel('Standard deviation')\\nplt.title('Raw data Standard deviation - visualization')\\nplt.legend(loc = 'best')\\nplt.show()\""
      ]
     },
     "execution_count": 44,
     "metadata": {},
     "output_type": "execute_result"
    }
   ],
   "source": [
    "'''#Plot of the raw data for standard deviation without regression\n",
    "plt.figure(figsize=(16,10))\n",
    "plt.plot(year, std_dev, color = 'black', markersize = 5, label = f'Raw data for standard deviation')\n",
    "plt.xlabel('Year')\n",
    "plt.ylabel('Standard deviation')\n",
    "plt.title('Raw data Standard deviation - visualization')\n",
    "plt.legend(loc = 'best')\n",
    "plt.show()'''"
   ]
  },
  {
   "cell_type": "code",
   "execution_count": 45,
   "metadata": {},
   "outputs": [],
   "source": [
    "# defining the parameters as np.arrays (one more time)\n",
    "year = np.array(raw_data.year)\n",
    "lifetime = np.array(raw_data.lifetime)\n",
    "std_dev = np.array(raw_data.std_dev)"
   ]
  },
  {
   "cell_type": "markdown",
   "metadata": {},
   "source": [
    "Regression for standard deviation 1600-2050 (natural cubic spline):"
   ]
  },
  {
   "cell_type": "code",
   "execution_count": 46,
   "metadata": {},
   "outputs": [],
   "source": [
    "#* Import the code needed\n",
    "import os\n",
    "import pandas as pd\n",
    "from pathlib import Path\n",
    "import numpy as np\n",
    "import copy\n",
    "import matplotlib.pyplot as plt\n",
    "from datetime import datetime\n",
    "import sys\n",
    "from scipy.optimize import curve_fit"
   ]
  },
  {
   "cell_type": "code",
   "execution_count": 47,
   "metadata": {},
   "outputs": [],
   "source": [
    "#* Define paths\n",
    "directory_path = Path('../../')"
   ]
  },
  {
   "cell_type": "code",
   "execution_count": 48,
   "metadata": {},
   "outputs": [
    {
     "ename": "ModuleNotFoundError",
     "evalue": "No module named 'natural_cubic_spline_stack_overflow'",
     "output_type": "error",
     "traceback": [
      "\u001b[1;31m---------------------------------------------------------------------------\u001b[0m",
      "\u001b[1;31mModuleNotFoundError\u001b[0m                       Traceback (most recent call last)",
      "Cell \u001b[1;32mIn[48], line 11\u001b[0m\n\u001b[0;32m      8\u001b[0m \u001b[38;5;66;03m#append path to options to import from\u001b[39;00m\n\u001b[0;32m      9\u001b[0m sys\u001b[38;5;241m.\u001b[39mpath\u001b[38;5;241m.\u001b[39mappend(module_path)\n\u001b[1;32m---> 11\u001b[0m \u001b[38;5;28;01mimport\u001b[39;00m \u001b[38;5;21;01mnatural_cubic_spline_stack_overflow\u001b[39;00m \u001b[38;5;28;01mas\u001b[39;00m \u001b[38;5;21;01mncs\u001b[39;00m\n\u001b[0;32m     12\u001b[0m \u001b[38;5;28;01mimport\u001b[39;00m \u001b[38;5;21;01mlogistic_curve_function\u001b[39;00m \u001b[38;5;28;01mas\u001b[39;00m \u001b[38;5;21;01mlogistic\u001b[39;00m\n",
      "\u001b[1;31mModuleNotFoundError\u001b[0m: No module named 'natural_cubic_spline_stack_overflow'"
     ]
    }
   ],
   "source": [
    "# getting the name of the directory where the this file is present.\n",
    "current = os.path.dirname(os.path.realpath('this'))\n",
    " \n",
    "# Getting the parent directory name where the current directory is present.\n",
    "parent = os.path.dirname(current)\n",
    "#make the UA path\n",
    "module_path = parent + '/modules'\n",
    "#append path to options to import from\n",
    "sys.path.append(module_path)\n",
    "\n",
    "import natural_cubic_spline_stack_overflow as ncs\n",
    "import logistic_curve_function as logistic"
   ]
  },
  {
   "cell_type": "code",
   "execution_count": null,
   "metadata": {},
   "outputs": [
    {
     "ename": "NameError",
     "evalue": "name 'ncs' is not defined",
     "output_type": "error",
     "traceback": [
      "\u001b[1;31m---------------------------------------------------------------------------\u001b[0m",
      "\u001b[1;31mNameError\u001b[0m                                 Traceback (most recent call last)",
      "Cell \u001b[1;32mIn[37], line 32\u001b[0m\n\u001b[0;32m     27\u001b[0m     sections\u001b[38;5;241m.\u001b[39mappend([section_years, section_values])\n\u001b[0;32m     29\u001b[0m \u001b[38;5;66;03m#Define a path to the get_natural_cubic_spline_model\u001b[39;00m\n\u001b[0;32m     30\u001b[0m \n\u001b[0;32m     31\u001b[0m \u001b[38;5;66;03m# setting up the actual model (training)\u001b[39;00m\n\u001b[1;32m---> 32\u001b[0m ncs_model \u001b[38;5;241m=\u001b[39m \u001b[43mncs\u001b[49m\u001b[38;5;241m.\u001b[39mget_natural_cubic_spline_model(inputs_ncs, outputs_ncs, minval\u001b[38;5;241m=\u001b[39m\u001b[38;5;28mmin\u001b[39m(inputs_ncs), \n\u001b[0;32m     33\u001b[0m                                                maxval\u001b[38;5;241m=\u001b[39m\u001b[38;5;28mmax\u001b[39m(inputs_ncs), knots \u001b[38;5;241m=\u001b[39m knots)\n\u001b[0;32m     34\u001b[0m \u001b[38;5;66;03m# predicting of the single curve by the model\u001b[39;00m\n\u001b[0;32m     35\u001b[0m pred_outputs_cub_p \u001b[38;5;241m=\u001b[39m ncs_model\u001b[38;5;241m.\u001b[39mpredict(pred_inputs)\n",
      "\u001b[1;31mNameError\u001b[0m: name 'ncs' is not defined"
     ]
    },
    {
     "data": {
      "image/png": "[encoded data removed]",
      "text/plain": [
       "<Figure size 640x480 with 1 Axes>"
      ]
     },
     "metadata": {},
     "output_type": "display_data"
    }
   ],
   "source": [
    "#add plot and labels here\n",
    "plt.plot(year,std_dev)\n",
    "plt.xlabel('Year')\n",
    "plt.ylabel('Standard deviation')\n",
    "\n",
    "#-------------------------------------------------------\n",
    "#Natural cubic spline regression:\n",
    "inputs_ncs = year\n",
    "outputs_ncs = std_dev\n",
    "std_dev_cub = outputs_ncs\n",
    "pred_inputs = year\n",
    "\n",
    "# we can either choose the knots manually, or supply a number of knots\n",
    "# - see second graphic on top.\n",
    "# knots at the 2nd and 2nd to last points, and at 20%, 40%, 60% and 80%\n",
    "knots = [inputs_ncs[1], inputs_ncs[int(0.2*len(inputs_ncs))],inputs_ncs[int(0.4*len(inputs_ncs))],\n",
    "        inputs_ncs[int(0.6*len(inputs_ncs))], inputs_ncs[int(0.8*len(inputs_ncs))], inputs_ncs[-2]]\n",
    "\n",
    "\n",
    "# just for showing the different cubic fits\n",
    "sections = []\n",
    "for i, knot in enumerate(knots[1:]):\n",
    "    index_first = np.where(inputs_ncs == knots[i])[0][0]\n",
    "    index_second = np.where(inputs_ncs == knot)[0][0]\n",
    "    section_years = inputs_ncs[index_first:index_second]\n",
    "    section_values = outputs_ncs[index_first:index_second]\n",
    "    sections.append([section_years, section_values])\n",
    "\n",
    "#Define a path to the get_natural_cubic_spline_model\n",
    "\n",
    "# setting up the actual model (training)\n",
    "ncs_model = ncs.get_natural_cubic_spline_model(inputs_ncs, outputs_ncs, minval=min(inputs_ncs), \n",
    "                                               maxval=max(inputs_ncs), knots = knots)\n",
    "# predicting of the single curve by the model\n",
    "pred_outputs_cub_p = ncs_model.predict(pred_inputs)\n",
    "print(f'The ncs_model')\n",
    "\n",
    "#plot the knots:\n",
    "for knot in knots:\n",
    "    plt.plot([knot, knot], [min(pred_outputs_cub_p), max(pred_outputs_cub_p)], lw = 0.5, color = 'darkgreen', \n",
    "             alpha = 0.4)\n",
    "\n",
    "for section in sections:\n",
    "    [x,y] = section\n",
    "    polynomial = np.poly1d(np.polyfit(x, y, 3))\n",
    "    pol_outputs = polynomial(x)\n",
    "    plt.plot(x, pol_outputs, '--', color = 'blue', lw = 1.5, label = 'sectional cubic fit')\n",
    "\n",
    "plt.plot(year, std_dev, 's', color = 'black', markersize = 2, \n",
    "         label = f'original values')\n",
    "plt.plot(pred_inputs, pred_outputs_cub_p, color = 'crimson', lw = 3, alpha = 0.8,\n",
    "         label = 'ncs regression values')\n",
    "plt.legend(loc = 'best')\n",
    "#ticks = np.rint(oj_years[:int(len(oj_years)*perc_ncs/100*1.5):int(len(reg_predictor_years)/10)])\n",
    "#plt.xticks(ticks = ticks)\n",
    "\n",
    "\n",
    "#-------------------------------------------------------\n",
    "\n",
    "# Add the years 1600-1799 and the regression values\n",
    "reg_years = np.arange(1600, 1800)\n",
    "ncs_reg_std_dev = ncs_model.predict(reg_years, pred_inputs)\n",
    "\n",
    "\n",
    "# Plot linear regression for the extended range on the same plot\n",
    "plt.plot(reg_years, ncs_reg_std_dev, '--', lw=7, alpha=0.5, color='green', label='ncs regression (extended)')\n",
    "plt.legend(loc='best')\n",
    "\n",
    "#-------------------------------------------------------\n",
    "\n",
    "plt.title('Natural cubic spline regression standard deviation data set')\n",
    "plt.show()"
   ]
  },
  {
   "cell_type": "markdown",
   "metadata": {},
   "source": [
    "Lifetime:"
   ]
  },
  {
   "cell_type": "code",
   "execution_count": null,
   "metadata": {},
   "outputs": [
    {
     "data": {
      "image/png": "[encoded data removed]",
      "text/plain": [
       "<Figure size 1600x1000 with 1 Axes>"
      ]
     },
     "metadata": {},
     "output_type": "display_data"
    }
   ],
   "source": [
    "#Plot of the raw data for lifetime without regression\n",
    "plt.figure(figsize=(16,10))\n",
    "plt.plot(year, lifetime, color = 'black', markersize = 5, label = f'Raw data for lifetime')\n",
    "plt.xlabel('Year')\n",
    "plt.ylabel('Lifetime')\n",
    "plt.title('Raw data Lifetime - visualization')\n",
    "plt.legend(loc = 'best')\n",
    "plt.show()"
   ]
  },
  {
   "cell_type": "markdown",
   "metadata": {},
   "source": [
    "Regression for lifetime 1600-2050 (natural cubic spline):"
   ]
  },
  {
   "cell_type": "code",
   "execution_count": null,
   "metadata": {},
   "outputs": [
    {
     "ename": "NameError",
     "evalue": "name 'ncs' is not defined",
     "output_type": "error",
     "traceback": [
      "\u001b[1;31m---------------------------------------------------------------------------\u001b[0m",
      "\u001b[1;31mNameError\u001b[0m                                 Traceback (most recent call last)",
      "Cell \u001b[1;32mIn[38], line 32\u001b[0m\n\u001b[0;32m     27\u001b[0m     sections\u001b[38;5;241m.\u001b[39mappend([section_years, section_values])\n\u001b[0;32m     29\u001b[0m \u001b[38;5;66;03m#Define a path to the get_natural_cubic_spline_model\u001b[39;00m\n\u001b[0;32m     30\u001b[0m \n\u001b[0;32m     31\u001b[0m \u001b[38;5;66;03m# setting up the actual model (training)\u001b[39;00m\n\u001b[1;32m---> 32\u001b[0m ncs_model \u001b[38;5;241m=\u001b[39m \u001b[43mncs\u001b[49m\u001b[38;5;241m.\u001b[39mget_natural_cubic_spline_model(inputs_ncs, outputs_ncs, minval\u001b[38;5;241m=\u001b[39m\u001b[38;5;28mmin\u001b[39m(inputs_ncs), \n\u001b[0;32m     33\u001b[0m                                                maxval\u001b[38;5;241m=\u001b[39m\u001b[38;5;28mmax\u001b[39m(inputs_ncs), knots \u001b[38;5;241m=\u001b[39m knots)\n\u001b[0;32m     34\u001b[0m \u001b[38;5;66;03m# predicting of the single curve by the model\u001b[39;00m\n\u001b[0;32m     35\u001b[0m pred_outputs_cub_p \u001b[38;5;241m=\u001b[39m ncs_model\u001b[38;5;241m.\u001b[39mpredict(pred_inputs)\n",
      "\u001b[1;31mNameError\u001b[0m: name 'ncs' is not defined"
     ]
    },
    {
     "data": {
      "image/png": "[encoded data removed]",
      "text/plain": [
       "<Figure size 640x480 with 1 Axes>"
      ]
     },
     "metadata": {},
     "output_type": "display_data"
    }
   ],
   "source": [
    "#add plot and labels here\n",
    "plt.plot(year,lifetime)\n",
    "plt.xlabel('Year')\n",
    "plt.ylabel('Lifetime')\n",
    "\n",
    "#-------------------------------------------------------\n",
    "#Natural cubic spline regression:\n",
    "inputs_ncs = year\n",
    "outputs_ncs = lifetime\n",
    "lifetime_cub = outputs_ncs\n",
    "pred_inputs = year\n",
    "\n",
    "# we can either choose the knots manually, or supply a number of knots\n",
    "# - see second graphic on top.\n",
    "# knots at the 2nd and 2nd to last points, and at 20%, 40%, 60% and 80%\n",
    "knots = [inputs_ncs[1], inputs_ncs[int(0.2*len(inputs_ncs))],inputs_ncs[int(0.4*len(inputs_ncs))],\n",
    "        inputs_ncs[int(0.6*len(inputs_ncs))], inputs_ncs[int(0.8*len(inputs_ncs))], inputs_ncs[-2]]\n",
    "\n",
    "\n",
    "# just for showing the different cubic fits\n",
    "sections = []\n",
    "for i, knot in enumerate(knots[1:]):\n",
    "    index_first = np.where(inputs_ncs == knots[i])[0][0]\n",
    "    index_second = np.where(inputs_ncs == knot)[0][0]\n",
    "    section_years = inputs_ncs[index_first:index_second]\n",
    "    section_values = outputs_ncs[index_first:index_second]\n",
    "    sections.append([section_years, section_values])\n",
    "\n",
    "#Define a path to the get_natural_cubic_spline_model\n",
    "\n",
    "# setting up the actual model (training)\n",
    "ncs_model = ncs.get_natural_cubic_spline_model(inputs_ncs, outputs_ncs, minval=min(inputs_ncs), \n",
    "                                               maxval=max(inputs_ncs), knots = knots)\n",
    "# predicting of the single curve by the model\n",
    "pred_outputs_cub_p = ncs_model.predict(pred_inputs)\n",
    "print(f'The ncs_model')\n",
    "\n",
    "#plot the knots:\n",
    "for knot in knots:\n",
    "    plt.plot([knot, knot], [min(pred_outputs_cub_p), max(pred_outputs_cub_p)], lw = 0.5, color = 'darkgreen', \n",
    "             alpha = 0.4)\n",
    "\n",
    "for section in sections:\n",
    "    [x,y] = section\n",
    "    polynomial = np.poly1d(np.polyfit(x, y, 3))\n",
    "    pol_outputs = polynomial(x)\n",
    "    plt.plot(x, pol_outputs, '--', color = 'blue', lw = 1.5, label = 'sectional cubic fit')\n",
    "\n",
    "plt.plot(year, lifetime, 's', color = 'black', markersize = 2, \n",
    "         label = f'original values')\n",
    "plt.plot(pred_inputs, pred_outputs_cub_p, color = 'crimson', lw = 3, alpha = 0.8,\n",
    "         label = 'ncs regression values')\n",
    "plt.legend(loc = 'best')\n",
    "#ticks = np.rint(oj_years[:int(len(oj_years)*perc_ncs/100*1.5):int(len(reg_predictor_years)/10)])\n",
    "#plt.xticks(ticks = ticks)\n",
    "\n",
    "\n",
    "#-------------------------------------------------------\n",
    "\n",
    "# Add the years 1600-1799 and the regression values\n",
    "reg_years = np.arange(1600, 1800)\n",
    "ncs_reg_lifetime = ncs_model.predict(reg_years, pred_inputs)\n",
    "\n",
    "\n",
    "# Plot linear regression for the extended range on the same plot\n",
    "plt.plot(reg_years, ncs_reg_lifetime, '--', lw=7, alpha=0.5, color='green', label='ncs regression (extended)')\n",
    "plt.legend(loc='best')\n",
    "\n",
    "#-------------------------------------------------------\n",
    "\n",
    "plt.title('Natural cubic spline regression lifetime data set')\n",
    "plt.show()"
   ]
  },
  {
   "cell_type": "markdown",
   "metadata": {},
   "source": [
    "Save and combine the new values with the raw data in a new dataframe:"
   ]
  },
  {
   "cell_type": "code",
   "execution_count": null,
   "metadata": {},
   "outputs": [
    {
     "name": "stdout",
     "output_type": "stream",
     "text": [
      "        lifetime    std_dev\n",
      "year                       \n",
      "1600  186.666667  62.310417\n",
      "1601  186.483333  62.220694\n",
      "1602  186.300000  62.130972\n",
      "1603  186.116667  62.041250\n",
      "1604  185.933333  61.951528\n",
      "...          ...        ...\n",
      "2046  104.900000  22.868200\n",
      "2047  104.716667  22.793328\n",
      "2048  104.533333  22.718578\n",
      "2049  104.350000  22.643950\n",
      "2050  104.166667  22.569444\n",
      "\n",
      "[451 rows x 2 columns]\n"
     ]
    }
   ],
   "source": [
    "# Create a combined DataFrame for all values\n",
    "extended_data = pd.DataFrame({\n",
    "    'year': reg_years,\n",
    "    'lifetime': ncs_reg_lifetime,\n",
    "    'std_dev': ncs_reg_std_dev\n",
    "})\n",
    "\n",
    "# Concatenate the original DataFrame with the extended DataFrame\n",
    "combined_data = pd.concat([extended_data, raw_data])\n",
    "\n",
    "combined_data = combined_data.set_index('year')\n",
    "\n",
    "# Display the combined_data DataFrame\n",
    "#print(extended_data)\n",
    "print(combined_data)"
   ]
  },
  {
   "cell_type": "code",
   "execution_count": null,
   "metadata": {},
   "outputs": [],
   "source": [
    "'''# Save the merged dataframe to a new Excel file\n",
    "combined_data.to_excel(directory_path / \n",
    "                 'Data/regression_data/Dwelling_Lifetime/regression_Dwelling_Lifetime_ncs.xlsx')\n",
    "\n",
    "#excel_filename = 'regression_Dwelling_Lifetime.xlsx'\n",
    "#combined_data.to_excel(excel_filename, index=False)'''"
   ]
  }
 ],
 "metadata": {
  "kernelspec": {
   "display_name": "TEP4221",
   "language": "python",
   "name": "python3"
  },
  "language_info": {
   "codemirror_mode": {
    "name": "ipython",
    "version": 3
   },
   "file_extension": ".py",
   "mimetype": "text/x-python",
   "name": "python",
   "nbconvert_exporter": "python",
   "pygments_lexer": "ipython3",
   "version": "3.8.17"
  }
 },
 "nbformat": 4,
 "nbformat_minor": 2
}
