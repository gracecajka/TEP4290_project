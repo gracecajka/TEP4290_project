{
 "cells": [
  {
   "cell_type": "markdown",
   "metadata": {},
   "source": [
    "# Data Source for Dwelling Lifetime"
   ]
  },
  {
   "cell_type": "markdown",
   "metadata": {},
   "source": [
    "Bergsdal, H., Brattebø, H., Bohne, R. A., & Müller, D. (2007). \n",
    "Dynamic material flow analysis for Norway’s dwelling stock. \n",
    "Building Research & Information, 35, 557–570. \n",
    "https://doi.org/10.1080/09613210701287588"
   ]
  },
  {
   "cell_type": "markdown",
   "metadata": {},
   "source": [
    "Digital tool to extract data as CSV from\n",
    "Figure 5 in the report (Bergsdal, 2007): \n",
    "https://www.graphreader.com/\n",
    "\n",
    "Maximum and minimum values for the x- and y-axis were specified and \n",
    "multiple points on the graph were manually marked. \n",
    "The tool generated a post-processed curve to cover all years \n",
    "with the mean lifetime. \n",
    "The data was stored as a CSV file and then an Excel file.\n",
    "\n",
    "The sigma values for year 1800 and 2100 were given,\n",
    "30% and 20% respectively (Bergsdal, 2007). \n",
    "The sigma values for the years 1801-2099 were calculated \n",
    "in Excel to align with the lifetime trend.\n",
    "\n",
    "Formula in Excel for sigma values: \n",
    "=$C$302+((B3-$B$302)/($B$2-$B$302))*($C$2-$C$302)"
   ]
  }
 ],
 "metadata": {
  "language_info": {
   "name": "python"
  }
 },
 "nbformat": 4,
 "nbformat_minor": 2
}
