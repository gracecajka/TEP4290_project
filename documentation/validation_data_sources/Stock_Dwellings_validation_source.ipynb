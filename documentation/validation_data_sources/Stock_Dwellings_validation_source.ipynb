{
 "cells": [
  {
   "cell_type": "markdown",
   "metadata": {},
   "source": [
    "# Data source for Stock of Dwellings year 2006-2024"
   ]
  },
  {
   "cell_type": "markdown",
   "metadata": {},
   "source": [
    "06265: Dwellings, by type of building (M) 2006 - 2024. Statbank Norway. \n",
    "(2024, March 12). SSB. \n",
    "https://www.ssb.no/en/statbank/table/06265"
   ]
  }
 ],
 "metadata": {
  "language_info": {
   "name": "python"
  }
 },
 "nbformat": 4,
 "nbformat_minor": 2
}
