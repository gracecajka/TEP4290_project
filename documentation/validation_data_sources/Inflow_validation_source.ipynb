{
 "cells": [
  {
   "cell_type": "markdown",
   "metadata": {},
   "source": [
    "Data source for year 2000-2023:"
   ]
  },
  {
   "cell_type": "markdown",
   "metadata": {},
   "source": [
    "Inflow of dwellings: https://www.ssb.no/statbank/table/05940/ (completed built dwellings 2000-2023)\n",
    "\n",
    "Table view: https://www.ssb.no/en/statbank/table/05940/tableViewLayout1/\n",
    "\n",
    "Updated 2024-02-15 08:00\n",
    "\n",
    "Buildings completed. Dwellings: dwellings\n",
    "\n",
    "Reference time Buildings completed. Dwellings: 31.12.\n",
    "\n",
    "Source Statistics Norway"
   ]
  }
 ],
 "metadata": {
  "language_info": {
   "name": "python"
  }
 },
 "nbformat": 4,
 "nbformat_minor": 2
}
