{
 "cells": [
  {
   "cell_type": "markdown",
   "metadata": {},
   "source": [
    "Clean Type-split-data from 2012. \n",
    "Find percentage of each dwelling type, Single Family House (SFH), Terraced House (TH) and Apartment Block (AB).\n",
    "Result:\n",
    "SFH_ratio   84.68%\n",
    "TH_ratio    33.44%\n",
    "AB_ratio    44.04%"
   ]
  },
  {
   "cell_type": "code",
   "execution_count": 122,
   "metadata": {},
   "outputs": [
    {
     "data": {
      "text/html": [
       "<div>\n",
       "<style scoped>\n",
       "    .dataframe tbody tr th:only-of-type {\n",
       "        vertical-align: middle;\n",
       "    }\n",
       "\n",
       "    .dataframe tbody tr th {\n",
       "        vertical-align: top;\n",
       "    }\n",
       "\n",
       "    .dataframe thead th {\n",
       "        text-align: right;\n",
       "    }\n",
       "</style>\n",
       "<table border=\"1\" class=\"dataframe\">\n",
       "  <thead>\n",
       "    <tr style=\"text-align: right;\">\n",
       "      <th></th>\n",
       "      <th>Age classes</th>\n",
       "      <th>Total</th>\n",
       "      <th>SFH.1</th>\n",
       "      <th>TH.1</th>\n",
       "      <th>AB.1</th>\n",
       "    </tr>\n",
       "  </thead>\n",
       "  <tbody>\n",
       "    <tr>\n",
       "      <th>0</th>\n",
       "      <td>1955 and before</td>\n",
       "      <td>467 158</td>\n",
       "      <td>401 482</td>\n",
       "      <td>143 241</td>\n",
       "      <td>179 666</td>\n",
       "    </tr>\n",
       "    <tr>\n",
       "      <th>1</th>\n",
       "      <td>1956 - 1970</td>\n",
       "      <td>273 512</td>\n",
       "      <td>227 929</td>\n",
       "      <td>81 577</td>\n",
       "      <td>121 358</td>\n",
       "    </tr>\n",
       "    <tr>\n",
       "      <th>2</th>\n",
       "      <td>1971 - 1980</td>\n",
       "      <td>249 255</td>\n",
       "      <td>219 673</td>\n",
       "      <td>72 521</td>\n",
       "      <td>91 387</td>\n",
       "    </tr>\n",
       "    <tr>\n",
       "      <th>3</th>\n",
       "      <td>1981 - 1990</td>\n",
       "      <td>227 978</td>\n",
       "      <td>202 228</td>\n",
       "      <td>70 619</td>\n",
       "      <td>57 471</td>\n",
       "    </tr>\n",
       "    <tr>\n",
       "      <th>4</th>\n",
       "      <td>1991 - 2000</td>\n",
       "      <td>129 157</td>\n",
       "      <td>109 696</td>\n",
       "      <td>55 632</td>\n",
       "      <td>65 056</td>\n",
       "    </tr>\n",
       "    <tr>\n",
       "      <th>5</th>\n",
       "      <td>2001 - 2010</td>\n",
       "      <td>134 737</td>\n",
       "      <td>98 808</td>\n",
       "      <td>67 624</td>\n",
       "      <td>126 975</td>\n",
       "    </tr>\n",
       "    <tr>\n",
       "      <th>6</th>\n",
       "      <td>2011 and after</td>\n",
       "      <td>28 598</td>\n",
       "      <td>19 144</td>\n",
       "      <td>13 929</td>\n",
       "      <td>23 194</td>\n",
       "    </tr>\n",
       "    <tr>\n",
       "      <th>7</th>\n",
       "      <td>SUM</td>\n",
       "      <td>1 510 395</td>\n",
       "      <td>1 278 960</td>\n",
       "      <td>505 143</td>\n",
       "      <td>665 107</td>\n",
       "    </tr>\n",
       "  </tbody>\n",
       "</table>\n",
       "</div>"
      ],
      "text/plain": [
       "       Age classes      Total      SFH.1     TH.1     AB.1\n",
       "0  1955 and before    467 158    401 482  143 241  179 666\n",
       "1      1956 - 1970    273 512    227 929   81 577  121 358\n",
       "2      1971 - 1980    249 255    219 673   72 521   91 387\n",
       "3      1981 - 1990    227 978    202 228   70 619   57 471\n",
       "4      1991 - 2000    129 157    109 696   55 632   65 056\n",
       "5      2001 - 2010    134 737     98 808   67 624  126 975\n",
       "6   2011 and after     28 598     19 144   13 929   23 194\n",
       "7              SUM  1 510 395  1 278 960  505 143  665 107"
      ]
     },
     "execution_count": 122,
     "metadata": {},
     "output_type": "execute_result"
    }
   ],
   "source": [
    "import pandas as pd\n",
    "import numpy as np\n",
    "\n",
    "# File path\n",
    "file = \"raw_type_split.xlsx\" #only works if the file is in the same folder\n",
    "\n",
    "# Read the Excel file\n",
    "    # Only Number of dwellings (#)\n",
    "        # NOT Number of buildings (#) and Utility floor space (1000 m²)\n",
    "usecols = [0] + list(range(4, 8)) # Ignore the unwanted colums\n",
    "skiprows = 0, # Ignore the header\n",
    "data = pd.read_excel(file, header=0, usecols=usecols, skiprows=skiprows)\n",
    "\n",
    "# Display all the wanted data\n",
    "data.head(9)"
   ]
  },
  {
   "cell_type": "code",
   "execution_count": 123,
   "metadata": {},
   "outputs": [
    {
     "name": "stdout",
     "output_type": "stream",
     "text": [
      "SFH_ratio   84.68%\n",
      "TH_ratio    33.44%\n",
      "AB_ratio    44.04%\n",
      "dtype: float64\n"
     ]
    }
   ],
   "source": [
    "# Creating a pandas series object of the last row with SUM of Dwellings in 2012\n",
    "SUM_dwellings = pd.Series([1510395, 1278960, 505143, 665107])\n",
    "SUM_dwellings.index = ['Total', 'SFH', 'TH', 'AB'] # Assigning names to the values\n",
    "\n",
    "# Dividing SUM values for each type, SFH, TH, and AB, by Total and storing them as new parameters\n",
    "SUM_dwellings['SFH_ratio'] = SUM_dwellings['SFH'] / SUM_dwellings['Total']\n",
    "SUM_dwellings['TH_ratio'] = SUM_dwellings['TH'] / SUM_dwellings['Total']\n",
    "SUM_dwellings['AB_ratio'] = SUM_dwellings['AB'] / SUM_dwellings['Total']\n",
    "\n",
    "# Display the ratios as both decimals and percentages\n",
    "#pd.set_option('display.float_format', '{:.2f}'.format) # To display option to show numbers in standard decimal notation\n",
    "pd.set_option('display.float_format', '{:.2%}'.format)\n",
    "\n",
    "# Display the result\n",
    "print(SUM_dwellings[['SFH_ratio', 'TH_ratio', 'AB_ratio']])"
   ]
  }
 ],
 "metadata": {
  "kernelspec": {
   "display_name": "TEP4221",
   "language": "python",
   "name": "python3"
  },
  "language_info": {
   "codemirror_mode": {
    "name": "ipython",
    "version": 3
   },
   "file_extension": ".py",
   "mimetype": "text/x-python",
   "name": "python",
   "nbconvert_exporter": "python",
   "pygments_lexer": "ipython3",
   "version": "3.8.17"
  }
 },
 "nbformat": 4,
 "nbformat_minor": 2
}
