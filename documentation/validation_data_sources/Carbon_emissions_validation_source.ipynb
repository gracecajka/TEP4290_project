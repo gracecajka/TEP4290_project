{
 "cells": [
  {
   "cell_type": "markdown",
   "metadata": {
    "vscode": {
     "languageId": "plaintext"
    }
   },
   "source": [
    "# Data source for Carbon Emissions"
   ]
  },
  {
   "cell_type": "markdown",
   "metadata": {},
   "source": [
    "13932: Klimagasser fra norsk økonomisk aktivitet AR5, etter næring, \n",
    "komponent, år og statistikkvariabel. Statistikkbanken. \n",
    "(2023, November 3). SSB. \n",
    "https://www.ssb.no/statbank/table/13932/tableViewLayout1/"
   ]
  }
 ],
 "metadata": {
  "language_info": {
   "name": "python"
  }
 },
 "nbformat": 4,
 "nbformat_minor": 2
}
