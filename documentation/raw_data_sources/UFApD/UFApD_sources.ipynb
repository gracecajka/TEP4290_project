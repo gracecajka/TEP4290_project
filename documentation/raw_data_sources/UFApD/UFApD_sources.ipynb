{
 "cells": [
  {
   "cell_type": "markdown",
   "metadata": {},
   "source": [
    "# Data source for all years"
   ]
  },
  {
   "cell_type": "markdown",
   "metadata": {},
   "source": [
    "Typologier for norske boligbygg – Eksempler på tiltak for energieffektivisering (Episcope)"
   ]
  }
 ],
 "metadata": {
  "language_info": {
   "name": "python"
  }
 },
 "nbformat": 4,
 "nbformat_minor": 2
}
