{
 "cells": [
  {
   "cell_type": "markdown",
   "metadata": {},
   "source": [
    "# Data source for population years 1600 and 1650"
   ]
  },
  {
   "cell_type": "markdown",
   "metadata": {},
   "source": [
    "Örjan Martinsson. (n.d.). Population of Scandinavia. \n",
    "Tacitus Historical Atlas. Retrieved 25 March 2024, from \n",
    "https://www.tacitus.nu/historical-atlas/population/scandinavia.htm"
   ]
  },
  {
   "cell_type": "markdown",
   "metadata": {},
   "source": [
    "# Data source for population years 1735-2023"
   ]
  },
  {
   "cell_type": "markdown",
   "metadata": {},
   "source": [
    "05803: Endringer i befolkningen i løpet av året 1735 - 2024.\n",
    "Statistikkbanken. (2024, February 21). SSB.\n",
    "https://www.ssb.no/statbank/table/05803/"
   ]
  },
  {
   "cell_type": "markdown",
   "metadata": {},
   "source": [
    "# Data source for population projections"
   ]
  },
  {
   "cell_type": "markdown",
   "metadata": {},
   "source": [
    "Nasjonale befolkningsframskrivinger. (2022, July 5). SSB.\n",
    "https://www.ssb.no/befolkning/befolkningsframskrivinger/statistikk/nasjonale-befolkningsframskrivinger"
   ]
  }
 ],
 "metadata": {
  "language_info": {
   "name": "python"
  }
 },
 "nbformat": 4,
 "nbformat_minor": 2
}
