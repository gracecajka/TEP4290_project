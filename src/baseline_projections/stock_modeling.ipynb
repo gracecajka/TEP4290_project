{
 "cells": [
  {
   "cell_type": "code",
   "execution_count": null,
   "metadata": {},
   "outputs": [],
   "source": [
    "'''_In this script, we ..._'''"
   ]
  },
  {
   "cell_type": "code",
   "execution_count": null,
   "metadata": {},
   "outputs": [],
   "source": [
    "# -*- coding: utf-8 -*- #\n",
    "# Authors: gracecaj@stud.ntnu.no, sbaarak@stud.ntnu.no, & annakale@stud.ntnu.no\n",
    "# Date: 19/09/2023"
   ]
  },
  {
   "cell_type": "code",
   "execution_count": 1,
   "metadata": {},
   "outputs": [],
   "source": [
    "#%%\n",
    "#* Import the code needed\n",
    "import os\n",
    "from pathlib import Path\n",
    "import numpy as np\n",
    "import sys\n",
    "import pandas as pd"
   ]
  },
  {
   "cell_type": "code",
   "execution_count": 2,
   "metadata": {},
   "outputs": [],
   "source": [
    "#%%\n",
    "#* Define paths\n",
    "directory_path = Path('../../')"
   ]
  },
  {
   "cell_type": "markdown",
   "metadata": {},
   "source": [
    "# Import data needed (pop, ppd, type split)"
   ]
  },
  {
   "cell_type": "code",
   "execution_count": 22,
   "metadata": {},
   "outputs": [],
   "source": [
    "pop = pd.read_excel(\n",
    "    directory_path / 'data' / 'regression_data' / 'Population' / 'regression_Population.xlsx',\n",
    "    index_col=0)\n",
    "\n",
    "PpD = pd.read_excel(\n",
    "    directory_path / 'data' / 'regression_data' / 'PpD' / 'regression_PpD.xlsx',\n",
    "    index_col=0)\n",
    "\n",
    "TS_cj = pd.read_excel(\n",
    "    directory_path / 'data' / 'cleaned_and_combined_data' / 'Type_Split' / 'Type_Split_ratios.xlsx',\n",
    "    index_col=0)\n",
    "\n",
    "lifetime = pd.read_excel(\n",
    "    directory_path / 'data' / 'regression_data' / 'Dwelling_Lifetime' / 'lifetime_regression.xlsx',\n",
    "    index_col=0)\n",
    "\n",
    "lifetime_standard_deviation = pd.read_excel(\n",
    "    directory_path / 'data' / 'regression_data' / 'Dwelling_Lifetime' / 'lifetime_regression.xlsx',\n",
    "    index_col=0)\n",
    "\n",
    "lifetime = lifetime.drop('std_dev', axis=1)\n",
    "lifetime_standard_deviation = lifetime_standard_deviation.drop('lifetime', axis=1)\n",
    "\n",
    "lifetime = lifetime.loc[:, 'lifetime'].to_numpy()\n",
    "lifetime\n",
    "\n",
    "lifetime_standard_deviation = lifetime_standard_deviation.loc[:, 'std_dev'].to_numpy()\n",
    "\n",
    "#lifetime = lifetime.transpose()\n",
    "#lifetime_standard_deviation = lifetime_standard_deviation.transpose()"
   ]
  },
  {
   "cell_type": "markdown",
   "metadata": {},
   "source": [
    "# Import DSM model\n"
   ]
  },
  {
   "cell_type": "code",
   "execution_count": 4,
   "metadata": {},
   "outputs": [],
   "source": [
    "# getting the name of the directory where the this file is present.\n",
    "current = os.path.dirname(os.path.realpath('this'))\n",
    " \n",
    "# Getting the parent directory name where the current directory is present.\n",
    "parent = os.path.dirname(current)\n",
    "#make the UA path\n",
    "module_path = parent + '/modules'\n",
    "#append path to options to import from\n",
    "sys.path.append(module_path)\n",
    "\n",
    "from dynamic_stock_model import DynamicStockModel"
   ]
  },
  {
   "cell_type": "markdown",
   "metadata": {},
   "source": [
    "# Use pop and PpD to calculate stock over time"
   ]
  },
  {
   "cell_type": "code",
   "execution_count": 5,
   "metadata": {},
   "outputs": [
    {
     "name": "stderr",
     "output_type": "stream",
     "text": [
      "C:\\Users\\grace\\AppData\\Local\\Temp\\ipykernel_560\\669566578.py:1: FutureWarning: Calling a ufunc on non-aligned DataFrames (or DataFrame/Series combination). Currently, the indices are ignored and the result takes the index/columns of the first DataFrame. In the future , the DataFrames/Series will be aligned before applying the ufunc.\n",
      "Convert one of the arguments to a NumPy array (eg 'ufunc(df1, np.asarray(df2)') to keep the current behaviour, or align manually (eg 'df1, df2 = df1.align(df2)') before passing to the ufunc to obtain the future behaviour and silence this warning.\n",
      "  stock_t = np.multiply(pop,PpD)\n",
      "C:\\Users\\grace\\AppData\\Local\\Temp\\ipykernel_560\\669566578.py:3: FutureWarning: Calling a ufunc on non-aligned DataFrames (or DataFrame/Series combination). Currently, the indices are ignored and the result takes the index/columns of the first DataFrame. In the future , the DataFrames/Series will be aligned before applying the ufunc.\n",
      "Convert one of the arguments to a NumPy array (eg 'ufunc(df1, np.asarray(df2)') to keep the current behaviour, or align manually (eg 'df1, df2 = df1.align(df2)') before passing to the ufunc to obtain the future behaviour and silence this warning.\n",
      "  stock_t_SFH = np.multiply(stock_t,TS_cj['SFH_ratio'])\n",
      "C:\\Users\\grace\\AppData\\Local\\Temp\\ipykernel_560\\669566578.py:4: FutureWarning: Calling a ufunc on non-aligned DataFrames (or DataFrame/Series combination). Currently, the indices are ignored and the result takes the index/columns of the first DataFrame. In the future , the DataFrames/Series will be aligned before applying the ufunc.\n",
      "Convert one of the arguments to a NumPy array (eg 'ufunc(df1, np.asarray(df2)') to keep the current behaviour, or align manually (eg 'df1, df2 = df1.align(df2)') before passing to the ufunc to obtain the future behaviour and silence this warning.\n",
      "  stock_t_TH = np.multiply(stock_t,TS_cj['TH_ratio'])\n",
      "C:\\Users\\grace\\AppData\\Local\\Temp\\ipykernel_560\\669566578.py:5: FutureWarning: Calling a ufunc on non-aligned DataFrames (or DataFrame/Series combination). Currently, the indices are ignored and the result takes the index/columns of the first DataFrame. In the future , the DataFrames/Series will be aligned before applying the ufunc.\n",
      "Convert one of the arguments to a NumPy array (eg 'ufunc(df1, np.asarray(df2)') to keep the current behaviour, or align manually (eg 'df1, df2 = df1.align(df2)') before passing to the ufunc to obtain the future behaviour and silence this warning.\n",
      "  stock_t_AB = np.multiply(stock_t,TS_cj['AB_ratio'])\n"
     ]
    }
   ],
   "source": [
    "stock_t = np.multiply(pop,PpD)\n",
    "\n",
    "stock_t_SFH = np.multiply(stock_t,TS_cj['SFH_ratio'])\n",
    "stock_t_TH = np.multiply(stock_t,TS_cj['TH_ratio'])\n",
    "stock_t_AB = np.multiply(stock_t,TS_cj['AB_ratio'])"
   ]
  },
  {
   "cell_type": "code",
   "execution_count": 10,
   "metadata": {},
   "outputs": [
    {
     "data": {
      "text/html": [
       "<div>\n",
       "<style scoped>\n",
       "    .dataframe tbody tr th:only-of-type {\n",
       "        vertical-align: middle;\n",
       "    }\n",
       "\n",
       "    .dataframe tbody tr th {\n",
       "        vertical-align: top;\n",
       "    }\n",
       "\n",
       "    .dataframe thead th {\n",
       "        text-align: right;\n",
       "    }\n",
       "</style>\n",
       "<table border=\"1\" class=\"dataframe\">\n",
       "  <thead>\n",
       "    <tr style=\"text-align: right;\">\n",
       "      <th></th>\n",
       "      <th>Population</th>\n",
       "    </tr>\n",
       "    <tr>\n",
       "      <th>Year</th>\n",
       "      <th></th>\n",
       "    </tr>\n",
       "  </thead>\n",
       "  <tbody>\n",
       "    <tr>\n",
       "      <th>1600</th>\n",
       "      <td>1.129272e+06</td>\n",
       "    </tr>\n",
       "    <tr>\n",
       "      <th>1601</th>\n",
       "      <td>1.137121e+06</td>\n",
       "    </tr>\n",
       "    <tr>\n",
       "      <th>1602</th>\n",
       "      <td>1.144676e+06</td>\n",
       "    </tr>\n",
       "    <tr>\n",
       "      <th>1603</th>\n",
       "      <td>1.151944e+06</td>\n",
       "    </tr>\n",
       "    <tr>\n",
       "      <th>1604</th>\n",
       "      <td>1.158930e+06</td>\n",
       "    </tr>\n",
       "    <tr>\n",
       "      <th>...</th>\n",
       "      <td>...</td>\n",
       "    </tr>\n",
       "    <tr>\n",
       "      <th>2046</th>\n",
       "      <td>5.985500e+06</td>\n",
       "    </tr>\n",
       "    <tr>\n",
       "      <th>2047</th>\n",
       "      <td>5.980945e+06</td>\n",
       "    </tr>\n",
       "    <tr>\n",
       "      <th>2048</th>\n",
       "      <td>5.975777e+06</td>\n",
       "    </tr>\n",
       "    <tr>\n",
       "      <th>2049</th>\n",
       "      <td>5.970199e+06</td>\n",
       "    </tr>\n",
       "    <tr>\n",
       "      <th>2050</th>\n",
       "      <td>5.964271e+06</td>\n",
       "    </tr>\n",
       "  </tbody>\n",
       "</table>\n",
       "<p>451 rows × 1 columns</p>\n",
       "</div>"
      ],
      "text/plain": [
       "        Population\n",
       "Year              \n",
       "1600  1.129272e+06\n",
       "1601  1.137121e+06\n",
       "1602  1.144676e+06\n",
       "1603  1.151944e+06\n",
       "1604  1.158930e+06\n",
       "...            ...\n",
       "2046  5.985500e+06\n",
       "2047  5.980945e+06\n",
       "2048  5.975777e+06\n",
       "2049  5.970199e+06\n",
       "2050  5.964271e+06\n",
       "\n",
       "[451 rows x 1 columns]"
      ]
     },
     "execution_count": 10,
     "metadata": {},
     "output_type": "execute_result"
    }
   ],
   "source": [
    "stock_t_SFH"
   ]
  },
  {
   "cell_type": "code",
   "execution_count": 88,
   "metadata": {},
   "outputs": [
    {
     "ename": "KeyError",
     "evalue": "0",
     "output_type": "error",
     "traceback": [
      "\u001b[1;31m---------------------------------------------------------------------------\u001b[0m",
      "\u001b[1;31mKeyError\u001b[0m                                  Traceback (most recent call last)",
      "File \u001b[1;32mc:\\Users\\grace\\miniconda3\\envs\\TEP4221\\lib\\site-packages\\pandas\\core\\indexes\\base.py:3621\u001b[0m, in \u001b[0;36mIndex.get_loc\u001b[1;34m(self, key, method, tolerance)\u001b[0m\n\u001b[0;32m   3620\u001b[0m \u001b[38;5;28;01mtry\u001b[39;00m:\n\u001b[1;32m-> 3621\u001b[0m     \u001b[38;5;28;01mreturn\u001b[39;00m \u001b[38;5;28;43mself\u001b[39;49m\u001b[38;5;241;43m.\u001b[39;49m\u001b[43m_engine\u001b[49m\u001b[38;5;241;43m.\u001b[39;49m\u001b[43mget_loc\u001b[49m\u001b[43m(\u001b[49m\u001b[43mcasted_key\u001b[49m\u001b[43m)\u001b[49m\n\u001b[0;32m   3622\u001b[0m \u001b[38;5;28;01mexcept\u001b[39;00m \u001b[38;5;167;01mKeyError\u001b[39;00m \u001b[38;5;28;01mas\u001b[39;00m err:\n",
      "File \u001b[1;32mc:\\Users\\grace\\miniconda3\\envs\\TEP4221\\lib\\site-packages\\pandas\\_libs\\index.pyx:136\u001b[0m, in \u001b[0;36mpandas._libs.index.IndexEngine.get_loc\u001b[1;34m()\u001b[0m\n",
      "File \u001b[1;32mc:\\Users\\grace\\miniconda3\\envs\\TEP4221\\lib\\site-packages\\pandas\\_libs\\index.pyx:163\u001b[0m, in \u001b[0;36mpandas._libs.index.IndexEngine.get_loc\u001b[1;34m()\u001b[0m\n",
      "File \u001b[1;32mpandas\\_libs\\hashtable_class_helper.pxi:5198\u001b[0m, in \u001b[0;36mpandas._libs.hashtable.PyObjectHashTable.get_item\u001b[1;34m()\u001b[0m\n",
      "File \u001b[1;32mpandas\\_libs\\hashtable_class_helper.pxi:5206\u001b[0m, in \u001b[0;36mpandas._libs.hashtable.PyObjectHashTable.get_item\u001b[1;34m()\u001b[0m\n",
      "\u001b[1;31mKeyError\u001b[0m: 0",
      "\nThe above exception was the direct cause of the following exception:\n",
      "\u001b[1;31mKeyError\u001b[0m                                  Traceback (most recent call last)",
      "Cell \u001b[1;32mIn[88], line 14\u001b[0m\n\u001b[0;32m     11\u001b[0m \u001b[38;5;28mlen\u001b[39m(stock_t_SFH\u001b[38;5;241m.\u001b[39miloc[\u001b[38;5;241m0\u001b[39m])\n\u001b[0;32m     12\u001b[0m \u001b[38;5;66;03m#len(dwellings_stock_driven.t)\u001b[39;00m\n\u001b[1;32m---> 14\u001b[0m inflow_tc \u001b[38;5;241m=\u001b[39m \u001b[43mdwellings_stock_driven\u001b[49m\u001b[38;5;241;43m.\u001b[39;49m\u001b[43mcompute_i_c_from_s_c\u001b[49m\u001b[43m(\u001b[49m\u001b[43mstock_t_SFH\u001b[49m\u001b[43m)\u001b[49m\n\u001b[0;32m     15\u001b[0m \u001b[38;5;66;03m#print(lifetime)\u001b[39;00m\n\u001b[0;32m     16\u001b[0m \u001b[38;5;66;03m#print(stock_t_SFH.iloc[:,0])\u001b[39;00m\n\u001b[0;32m     17\u001b[0m \u001b[38;5;28mprint\u001b[39m(dwellings_stock_driven\u001b[38;5;241m.\u001b[39mlt[\u001b[38;5;124m'\u001b[39m\u001b[38;5;124mMean\u001b[39m\u001b[38;5;124m'\u001b[39m][\u001b[38;5;241m0\u001b[39m])\n",
      "File \u001b[1;32m~\\OneDrive\\Documents\\Python\\TEP4290_project\\src/modules\\dynamic_stock_model.py:399\u001b[0m, in \u001b[0;36mDynamicStockModel.compute_i_c_from_s_c\u001b[1;34m(self, InitialStock)\u001b[0m\n\u001b[0;32m    397\u001b[0m \u001b[38;5;28;01mfor\u001b[39;00m Cohort \u001b[38;5;129;01min\u001b[39;00m \u001b[38;5;28mrange\u001b[39m(\u001b[38;5;241m0\u001b[39m, \u001b[38;5;28mlen\u001b[39m(\u001b[38;5;28mself\u001b[39m\u001b[38;5;241m.\u001b[39mt)):\n\u001b[0;32m    398\u001b[0m     \u001b[38;5;28;01mif\u001b[39;00m \u001b[38;5;28mself\u001b[39m\u001b[38;5;241m.\u001b[39msf[\u001b[38;5;241m-\u001b[39m\u001b[38;5;241m1\u001b[39m,Cohort] \u001b[38;5;241m!=\u001b[39m \u001b[38;5;241m0\u001b[39m:\n\u001b[1;32m--> 399\u001b[0m         \u001b[38;5;28mself\u001b[39m\u001b[38;5;241m.\u001b[39mi[Cohort] \u001b[38;5;241m=\u001b[39m \u001b[43mInitialStock\u001b[49m\u001b[43m[\u001b[49m\u001b[43mCohort\u001b[49m\u001b[43m]\u001b[49m \u001b[38;5;241m/\u001b[39m \u001b[38;5;28mself\u001b[39m\u001b[38;5;241m.\u001b[39msf[\u001b[38;5;241m-\u001b[39m\u001b[38;5;241m1\u001b[39m,Cohort]\n\u001b[0;32m    400\u001b[0m     \u001b[38;5;28;01melse\u001b[39;00m:\n\u001b[0;32m    401\u001b[0m         \u001b[38;5;28mself\u001b[39m\u001b[38;5;241m.\u001b[39mi[Cohort] \u001b[38;5;241m=\u001b[39m \u001b[38;5;241m0\u001b[39m  \u001b[38;5;66;03m# Not possible with given lifetime distribution\u001b[39;00m\n",
      "File \u001b[1;32mc:\\Users\\grace\\miniconda3\\envs\\TEP4221\\lib\\site-packages\\pandas\\core\\frame.py:3505\u001b[0m, in \u001b[0;36mDataFrame.__getitem__\u001b[1;34m(self, key)\u001b[0m\n\u001b[0;32m   3503\u001b[0m \u001b[38;5;28;01mif\u001b[39;00m \u001b[38;5;28mself\u001b[39m\u001b[38;5;241m.\u001b[39mcolumns\u001b[38;5;241m.\u001b[39mnlevels \u001b[38;5;241m>\u001b[39m \u001b[38;5;241m1\u001b[39m:\n\u001b[0;32m   3504\u001b[0m     \u001b[38;5;28;01mreturn\u001b[39;00m \u001b[38;5;28mself\u001b[39m\u001b[38;5;241m.\u001b[39m_getitem_multilevel(key)\n\u001b[1;32m-> 3505\u001b[0m indexer \u001b[38;5;241m=\u001b[39m \u001b[38;5;28;43mself\u001b[39;49m\u001b[38;5;241;43m.\u001b[39;49m\u001b[43mcolumns\u001b[49m\u001b[38;5;241;43m.\u001b[39;49m\u001b[43mget_loc\u001b[49m\u001b[43m(\u001b[49m\u001b[43mkey\u001b[49m\u001b[43m)\u001b[49m\n\u001b[0;32m   3506\u001b[0m \u001b[38;5;28;01mif\u001b[39;00m is_integer(indexer):\n\u001b[0;32m   3507\u001b[0m     indexer \u001b[38;5;241m=\u001b[39m [indexer]\n",
      "File \u001b[1;32mc:\\Users\\grace\\miniconda3\\envs\\TEP4221\\lib\\site-packages\\pandas\\core\\indexes\\base.py:3623\u001b[0m, in \u001b[0;36mIndex.get_loc\u001b[1;34m(self, key, method, tolerance)\u001b[0m\n\u001b[0;32m   3621\u001b[0m     \u001b[38;5;28;01mreturn\u001b[39;00m \u001b[38;5;28mself\u001b[39m\u001b[38;5;241m.\u001b[39m_engine\u001b[38;5;241m.\u001b[39mget_loc(casted_key)\n\u001b[0;32m   3622\u001b[0m \u001b[38;5;28;01mexcept\u001b[39;00m \u001b[38;5;167;01mKeyError\u001b[39;00m \u001b[38;5;28;01mas\u001b[39;00m err:\n\u001b[1;32m-> 3623\u001b[0m     \u001b[38;5;28;01mraise\u001b[39;00m \u001b[38;5;167;01mKeyError\u001b[39;00m(key) \u001b[38;5;28;01mfrom\u001b[39;00m \u001b[38;5;21;01merr\u001b[39;00m\n\u001b[0;32m   3624\u001b[0m \u001b[38;5;28;01mexcept\u001b[39;00m \u001b[38;5;167;01mTypeError\u001b[39;00m:\n\u001b[0;32m   3625\u001b[0m     \u001b[38;5;66;03m# If we have a listlike key, _check_indexing_error will raise\u001b[39;00m\n\u001b[0;32m   3626\u001b[0m     \u001b[38;5;66;03m#  InvalidIndexError. Otherwise we fall through and re-raise\u001b[39;00m\n\u001b[0;32m   3627\u001b[0m     \u001b[38;5;66;03m#  the TypeError.\u001b[39;00m\n\u001b[0;32m   3628\u001b[0m     \u001b[38;5;28mself\u001b[39m\u001b[38;5;241m.\u001b[39m_check_indexing_error(key)\n",
      "\u001b[1;31mKeyError\u001b[0m: 0"
     ]
    }
   ],
   "source": [
    "dwellings_stock_driven = DynamicStockModel(t=np.arange(1600, 2051),\n",
    "                         s=stock_t_SFH,\n",
    "                         lt={'Type': 'Normal', \n",
    "                             'Mean': [150],\n",
    "                             'StdDev':[15] \n",
    "                             }\n",
    "                        )\n",
    "\n",
    "#len(stock_t_SFH.iloc[0]) == len(dwellings_stock_driven.t)\n",
    "\n",
    "len(stock_t_SFH.iloc[0])\n",
    "#len(dwellings_stock_driven.t)\n",
    "\n",
    "inflow_tc = dwellings_stock_driven.compute_i_c_from_s_c(stock_t_SFH.iloc[:,0])\n",
    "#print(lifetime)\n",
    "#print(stock_t_SFH.iloc[:,0])\n",
    "print(dwellings_stock_driven.lt['Mean'][0])\n",
    "#print(dwellings_stock_driven.lt['Mean'][1][0])"
   ]
  },
  {
   "cell_type": "code",
   "execution_count": 17,
   "metadata": {},
   "outputs": [
    {
     "data": {
      "text/plain": [
       "numpy.ndarray"
      ]
     },
     "execution_count": 17,
     "metadata": {},
     "output_type": "execute_result"
    }
   ],
   "source": [
    "type(stock_t_SFH['Population'].to_numpy())"
   ]
  },
  {
   "cell_type": "code",
   "execution_count": 27,
   "metadata": {},
   "outputs": [
    {
     "data": {
      "text/plain": [
       "'<br><b> Checking dimensions of dynamic stock model DSM.Time vector is present with 451 years.<br>Inflow vector is present with 451 years.<br>Total stock is present with 451 years.<br>Stock by cohorts is present with 451 years and 451 cohorts.<br>Total outflow is present with 451 years.<br>Outflow by cohorts is present with 451 years and 451 cohorts.<br>Lifetime distribution is present with type Normal and mean [186.67 186.48 186.3  186.12 185.93 185.75 185.57 185.38 185.2  185.02\\n 184.83 184.65 184.47 184.28 184.1  183.92 183.73 183.55 183.37 183.18\\n 183.   182.82 182.63 182.45 182.27 182.08 181.9  181.72 181.53 181.35\\n 181.17 180.98 180.8  180.62 180.43 180.25 180.07 179.88 179.7  179.52\\n 179.33 179.15 178.97 178.78 178.6  178.42 178.23 178.05 177.87 177.68\\n 177.5  177.32 177.13 176.95 176.77 176.58 176.4  176.22 176.03 175.85\\n 175.67 175.48 175.3  175.12 174.93 174.75 174.57 174.38 174.2  174.02\\n 173.83 173.65 173.47 173.28 173.1  172.92 172.73 172.55 172.37 172.18\\n 172.   171.82 171.63 171.45 171.27 171.08 170.9  170.72 170.53 170.35\\n 170.17 169.98 169.8  169.62 169.43 169.25 169.07 168.88 168.7  168.52\\n 168.33 168.15 167.97 167.78 167.6  167.42 167.23 167.05 166.87 166.68\\n 166.5  166.32 166.13 165.95 165.77 165.58 165.4  165.22 165.03 164.85\\n 164.67 164.48 164.3  164.12 163.93 163.75 163.57 163.38 163.2  163.02\\n 162.83 162.65 162.47 162.28 162.1  161.92 161.73 161.55 161.37 161.18\\n 161.   160.82 160.63 160.45 160.27 160.08 159.9  159.72 159.53 159.35\\n 159.17 158.98 158.8  158.62 158.43 158.25 158.07 157.88 157.7  157.52\\n 157.33 157.15 156.97 156.78 156.6  156.42 156.23 156.05 155.87 155.68\\n 155.5  155.32 155.13 154.95 154.77 154.58 154.4  154.22 154.03 153.85\\n 153.67 153.48 153.3  153.12 152.93 152.75 152.57 152.38 152.2  152.02\\n 151.83 151.65 151.47 151.28 151.1  150.92 150.73 150.55 150.37 150.18\\n 150.   149.82 149.63 149.45 149.27 149.08 148.9  148.72 148.53 148.35\\n 148.17 147.98 147.8  147.62 147.43 147.25 147.07 146.88 146.7  146.52\\n 146.33 146.15 145.97 145.78 145.6  145.42 145.23 145.05 144.87 144.68\\n 144.5  144.32 144.13 143.95 143.77 143.58 143.4  143.22 143.03 142.85\\n 142.67 142.48 142.3  142.12 141.93 141.75 141.57 141.38 141.2  141.02\\n 140.83 140.65 140.47 140.28 140.1  139.92 139.73 139.55 139.37 139.18\\n 139.   138.82 138.63 138.45 138.27 138.08 137.9  137.72 137.53 137.35\\n 137.17 136.98 136.8  136.62 136.43 136.25 136.07 135.88 135.7  135.52\\n 135.33 135.15 134.97 134.78 134.6  134.42 134.23 134.05 133.87 133.68\\n 133.5  133.32 133.13 132.95 132.77 132.58 132.4  132.22 132.03 131.85\\n 131.67 131.48 131.3  131.12 130.93 130.75 130.57 130.38 130.2  130.02\\n 129.83 129.65 129.47 129.28 129.1  128.92 128.73 128.55 128.37 128.18\\n 128.   127.82 127.63 127.45 127.27 127.08 126.9  126.72 126.53 126.35\\n 126.17 125.98 125.8  125.62 125.43 125.25 125.07 124.88 124.7  124.52\\n 124.33 124.15 123.97 123.78 123.6  123.42 123.23 123.05 122.87 122.68\\n 122.5  122.32 122.13 121.95 121.77 121.58 121.4  121.22 121.03 120.85\\n 120.67 120.48 120.3  120.12 119.93 119.75 119.57 119.38 119.2  119.02\\n 118.83 118.65 118.47 118.28 118.1  117.92 117.73 117.55 117.37 117.18\\n 117.   116.82 116.63 116.45 116.27 116.08 115.9  115.72 115.53 115.35\\n 115.17 114.98 114.8  114.62 114.43 114.25 114.07 113.88 113.7  113.52\\n 113.33 113.15 112.97 112.78 112.6  112.42 112.23 112.05 111.87 111.68\\n 111.5  111.32 111.13 110.95 110.77 110.58 110.4  110.22 110.03 109.85\\n 109.67 109.48 109.3  109.12 108.93 108.75 108.57 108.38 108.2  108.02\\n 107.83 107.65 107.47 107.28 107.1  106.92 106.73 106.55 106.37 106.18\\n 106.   105.82 105.63 105.45 105.27 105.08 104.9  104.72 104.53 104.35\\n 104.17].<br>'"
      ]
     },
     "execution_count": 27,
     "metadata": {},
     "output_type": "execute_result"
    }
   ],
   "source": [
    "lifetime_test = 150\n",
    "std_dev_test = 15\n",
    "\n",
    "#cohorts = \n",
    "\n",
    "dwellings_stock_driven = DynamicStockModel(t=np.arange(1600, 2051),\n",
    "                         s=stock_t_SFH['Population'].to_numpy(),\n",
    "                         #s_c = cohorts\n",
    "                         lt={'Type': 'Normal', \n",
    "                             'Mean': lifetime,\n",
    "                             'StdDev': lifetime_standard_deviation \n",
    "                             }\n",
    "                        )\n",
    "\n",
    "# Calculate the stock by cohort\n",
    "dwellings_stock_driven.compute_stock_driven_model(NegativeInflowCorrect = True) \n",
    "\n",
    "# Calculate  total outflow\n",
    "dwellings_stock_driven.compute_outflow_total()\n",
    "\n",
    "# Calculate the total stock\n",
    "dwellings_stock_driven.compute_stock_total()\n",
    "\n",
    "# Calculate the inflow\n",
    "inflow_t = dwellings_stock_driven.i\n",
    "\n",
    "# Calculate the outflow\n",
    "outflow_t = dwellings_stock_driven.o\n",
    "\n",
    "# Calculate the stock model\n",
    "stock_tc = dwellings_stock_driven.s_c\n",
    "\n",
    "i_c = dwellings_stock_driven.i_c\n",
    "\n",
    "dwellings_stock_driven.dimension_check()"
   ]
  },
  {
   "cell_type": "code",
   "execution_count": 29,
   "metadata": {},
   "outputs": [
    {
     "name": "stdout",
     "output_type": "stream",
     "text": [
      "None\n"
     ]
    }
   ],
   "source": [
    "print(i_c)"
   ]
  },
  {
   "cell_type": "code",
   "execution_count": 26,
   "metadata": {},
   "outputs": [
    {
     "data": {
      "text/plain": [
       "'<br><b> Checking dimensions of dynamic stock model DSM.Time vector is present with 451 years.<br>Inflow vector is present with 451 years.<br>Total stock is present with 451 years.<br>Stock by cohorts is present with 451 years and 451 cohorts.<br>Total outflow is present with 451 years.<br>Outflow by cohorts is present with 451 years and 451 cohorts.<br>Lifetime distribution is present with type Normal and mean [186.67 186.48 186.3  186.12 185.93 185.75 185.57 185.38 185.2  185.02\\n 184.83 184.65 184.47 184.28 184.1  183.92 183.73 183.55 183.37 183.18\\n 183.   182.82 182.63 182.45 182.27 182.08 181.9  181.72 181.53 181.35\\n 181.17 180.98 180.8  180.62 180.43 180.25 180.07 179.88 179.7  179.52\\n 179.33 179.15 178.97 178.78 178.6  178.42 178.23 178.05 177.87 177.68\\n 177.5  177.32 177.13 176.95 176.77 176.58 176.4  176.22 176.03 175.85\\n 175.67 175.48 175.3  175.12 174.93 174.75 174.57 174.38 174.2  174.02\\n 173.83 173.65 173.47 173.28 173.1  172.92 172.73 172.55 172.37 172.18\\n 172.   171.82 171.63 171.45 171.27 171.08 170.9  170.72 170.53 170.35\\n 170.17 169.98 169.8  169.62 169.43 169.25 169.07 168.88 168.7  168.52\\n 168.33 168.15 167.97 167.78 167.6  167.42 167.23 167.05 166.87 166.68\\n 166.5  166.32 166.13 165.95 165.77 165.58 165.4  165.22 165.03 164.85\\n 164.67 164.48 164.3  164.12 163.93 163.75 163.57 163.38 163.2  163.02\\n 162.83 162.65 162.47 162.28 162.1  161.92 161.73 161.55 161.37 161.18\\n 161.   160.82 160.63 160.45 160.27 160.08 159.9  159.72 159.53 159.35\\n 159.17 158.98 158.8  158.62 158.43 158.25 158.07 157.88 157.7  157.52\\n 157.33 157.15 156.97 156.78 156.6  156.42 156.23 156.05 155.87 155.68\\n 155.5  155.32 155.13 154.95 154.77 154.58 154.4  154.22 154.03 153.85\\n 153.67 153.48 153.3  153.12 152.93 152.75 152.57 152.38 152.2  152.02\\n 151.83 151.65 151.47 151.28 151.1  150.92 150.73 150.55 150.37 150.18\\n 150.   149.82 149.63 149.45 149.27 149.08 148.9  148.72 148.53 148.35\\n 148.17 147.98 147.8  147.62 147.43 147.25 147.07 146.88 146.7  146.52\\n 146.33 146.15 145.97 145.78 145.6  145.42 145.23 145.05 144.87 144.68\\n 144.5  144.32 144.13 143.95 143.77 143.58 143.4  143.22 143.03 142.85\\n 142.67 142.48 142.3  142.12 141.93 141.75 141.57 141.38 141.2  141.02\\n 140.83 140.65 140.47 140.28 140.1  139.92 139.73 139.55 139.37 139.18\\n 139.   138.82 138.63 138.45 138.27 138.08 137.9  137.72 137.53 137.35\\n 137.17 136.98 136.8  136.62 136.43 136.25 136.07 135.88 135.7  135.52\\n 135.33 135.15 134.97 134.78 134.6  134.42 134.23 134.05 133.87 133.68\\n 133.5  133.32 133.13 132.95 132.77 132.58 132.4  132.22 132.03 131.85\\n 131.67 131.48 131.3  131.12 130.93 130.75 130.57 130.38 130.2  130.02\\n 129.83 129.65 129.47 129.28 129.1  128.92 128.73 128.55 128.37 128.18\\n 128.   127.82 127.63 127.45 127.27 127.08 126.9  126.72 126.53 126.35\\n 126.17 125.98 125.8  125.62 125.43 125.25 125.07 124.88 124.7  124.52\\n 124.33 124.15 123.97 123.78 123.6  123.42 123.23 123.05 122.87 122.68\\n 122.5  122.32 122.13 121.95 121.77 121.58 121.4  121.22 121.03 120.85\\n 120.67 120.48 120.3  120.12 119.93 119.75 119.57 119.38 119.2  119.02\\n 118.83 118.65 118.47 118.28 118.1  117.92 117.73 117.55 117.37 117.18\\n 117.   116.82 116.63 116.45 116.27 116.08 115.9  115.72 115.53 115.35\\n 115.17 114.98 114.8  114.62 114.43 114.25 114.07 113.88 113.7  113.52\\n 113.33 113.15 112.97 112.78 112.6  112.42 112.23 112.05 111.87 111.68\\n 111.5  111.32 111.13 110.95 110.77 110.58 110.4  110.22 110.03 109.85\\n 109.67 109.48 109.3  109.12 108.93 108.75 108.57 108.38 108.2  108.02\\n 107.83 107.65 107.47 107.28 107.1  106.92 106.73 106.55 106.37 106.18\\n 106.   105.82 105.63 105.45 105.27 105.08 104.9  104.72 104.53 104.35\\n 104.17].<br>'"
      ]
     },
     "execution_count": 26,
     "metadata": {},
     "output_type": "execute_result"
    }
   ],
   "source": [
    "dwellings_stock_driven.dimension_check()"
   ]
  },
  {
   "cell_type": "code",
   "execution_count": 25,
   "metadata": {},
   "outputs": [
    {
     "name": "stdout",
     "output_type": "stream",
     "text": [
      "[1.13081922e+06 7.94314512e+03 7.65415795e+03 7.37085223e+03\n",
      " 7.09323993e+03 6.82131804e+03 6.55509886e+03 6.29459431e+03\n",
      " 6.03980313e+03 5.79073759e+03 5.54740960e+03 5.30981958e+03\n",
      " 5.07797982e+03 4.85190227e+03 4.63158896e+03 4.41705221e+03\n",
      " 4.20830406e+03 4.00535638e+03 3.80820486e+03 3.61687009e+03\n",
      " 3.43135696e+03 3.25167803e+03 3.07784562e+03 2.90986594e+03\n",
      " 2.74775167e+03 2.59151529e+03 2.44116420e+03 2.29671123e+03\n",
      " 2.15816903e+03 2.02554605e+03 1.89885526e+03 1.77810947e+03\n",
      " 1.66331808e+03 1.55449417e+03 1.45165068e+03 1.35479782e+03\n",
      " 1.26394876e+03 1.17911655e+03 1.10031204e+03 1.02754844e+03\n",
      " 9.60838884e+02 9.00194684e+02 8.45629065e+02 7.97155153e+02\n",
      " 7.54784571e+02 7.18530469e+02 6.88405909e+02 6.64422635e+02\n",
      " 6.46593642e+02 6.34931837e+02 6.29448891e+02 6.30157547e+02\n",
      " 6.37070460e+02 6.50200249e+02 6.69556932e+02 6.95153950e+02\n",
      " 7.27002194e+02 7.65113568e+02 8.09499871e+02 8.60171271e+02\n",
      " 9.17139056e+02 9.80414401e+02 1.05000651e+03 1.12592593e+03\n",
      " 1.20818304e+03 1.29678587e+03 1.39174403e+03 1.49306701e+03\n",
      " 1.60076136e+03 1.71483565e+03 1.83529826e+03 1.96215408e+03\n",
      " 2.09541041e+03 2.23507442e+03 2.38114904e+03 2.53364018e+03\n",
      " 2.69255359e+03 2.85789001e+03 3.02965381e+03 3.20784914e+03\n",
      " 3.39247433e+03 3.58353201e+03 3.78102461e+03 3.98494779e+03\n",
      " 4.19530231e+03 4.41208870e+03 4.63529974e+03 4.86493417e+03\n",
      " 5.10099049e+03 5.34346741e+03 5.59234433e+03 5.84762581e+03\n",
      " 6.10929825e+03 6.37735596e+03 6.65179302e+03 6.93259239e+03\n",
      " 7.21974599e+03 7.51324554e+03 7.81307043e+03 8.11921011e+03\n",
      " 8.43165387e+03 8.75037740e+03 9.07536764e+03 9.40661140e+03\n",
      " 9.74408058e+03 1.00877596e+04 1.04376328e+04 1.07936681e+04\n",
      " 1.11558476e+04 1.15241530e+04 1.18985485e+04 1.22790135e+04\n",
      " 1.26655274e+04 1.30580506e+04 1.34565600e+04 1.38610326e+04\n",
      " 1.42714251e+04 1.46877120e+04 1.51098682e+04 1.55378465e+04\n",
      " 1.59716194e+04 1.64111594e+04 1.68564161e+04 1.73073597e+04\n",
      " 1.77639609e+04 1.82261926e+04 1.86939717e+04 1.91672921e+04\n",
      " 1.96460965e+04 2.01303518e+04 2.06200255e+04 2.11150574e+04\n",
      " 2.16154130e+04 2.21210585e+04 2.26319312e+04 2.31479952e+04\n",
      " 2.29257187e+04 1.93488423e+04 1.51448788e+04 1.70377297e+04\n",
      " 1.62563240e+04 0.00000000e+00 0.00000000e+00 0.00000000e+00\n",
      " 1.27063605e+04 2.52983070e+04 2.59731534e+04 2.19203422e+04\n",
      " 1.41091490e+04 1.08174762e+04 1.49580802e+04 1.76182369e+04\n",
      " 2.10859596e+04 2.42958932e+04 2.72986549e+04 2.45411799e+04\n",
      " 2.26741261e+04 2.68861381e+04 2.71703970e+04 2.08961616e+04\n",
      " 2.35739301e+04 2.84409653e+04 2.68122850e+04 1.22909129e+04\n",
      " 8.59026415e+03 1.61403900e+04 1.35730948e+04 2.06650645e+04\n",
      " 2.55295468e+04 2.47835180e+04 2.47845056e+04 2.37815254e+04\n",
      " 1.65366973e+04 0.00000000e+00 0.00000000e+00 2.00076044e+04\n",
      " 2.67963741e+04 2.70992167e+04 2.95475701e+04 2.31768081e+04\n",
      " 1.87543274e+04 2.53628860e+04 2.67784888e+04 1.87016388e+04\n",
      " 1.68766990e+04 8.97769207e+03 8.68827798e+03 2.06001201e+04\n",
      " 1.88907799e+04 1.19708661e+04 1.70846809e+04 2.76163187e+04\n",
      " 2.93727942e+04 3.21970375e+04 3.49664086e+04 3.27846846e+04\n",
      " 2.98283641e+04 3.06603967e+04 3.05150462e+04 3.23833522e+04\n",
      " 2.60342626e+04 1.28120166e+04 9.72151103e+03 1.38491612e+04\n",
      " 1.61836931e+04 2.25631853e+04 2.95072666e+04 2.69221004e+04\n",
      " 1.73920345e+04 0.00000000e+00 0.00000000e+00 9.03549033e+03\n",
      " 1.91846043e+04 1.22394466e+04 4.44965525e+03 2.19583003e+04\n",
      " 2.86576813e+04 4.86218751e+04 4.67051044e+04 3.91693934e+04\n",
      " 4.07493235e+04 4.69795505e+04 4.71119354e+04 4.54329235e+04\n",
      " 5.34880219e+04 4.79200106e+04 5.67139446e+04 5.69770972e+04\n",
      " 5.07542875e+04 4.63222623e+04 5.24271024e+04 4.77767037e+04\n",
      " 4.30738962e+04 4.41389932e+04 4.11155405e+04 3.78441022e+04\n",
      " 5.05950779e+04 4.25655735e+04 3.54329994e+04 3.56556336e+04\n",
      " 2.55944308e+04 3.58153508e+04 5.09427380e+04 5.13117174e+04\n",
      " 4.74868274e+04 5.09552433e+04 5.70127062e+04 5.13557849e+04\n",
      " 4.10321794e+04 3.74930645e+04 4.70643481e+04 4.83023984e+04\n",
      " 5.54402654e+04 4.58875335e+04 4.30182680e+04 6.12709916e+04\n",
      " 6.60272164e+04 6.17891201e+04 5.63335677e+04 7.34529121e+04\n",
      " 7.75629000e+04 7.11961914e+04 3.26965199e+04 4.63494543e+04\n",
      " 6.52127801e+04 5.81493663e+04 6.49266770e+04 3.31474933e+04\n",
      " 2.55469439e+04 2.58094650e+04 1.31213887e+04 2.60218991e+04\n",
      " 3.06313331e+04 3.14232886e+04 3.99585258e+04 5.49052571e+04\n",
      " 5.93115220e+04 5.36817681e+04 6.69463803e+04 6.57121129e+04\n",
      " 6.62455927e+04 2.33571681e+04 6.22147645e+02 0.00000000e+00\n",
      " 1.39542895e+04 3.81503864e+04 3.86712556e+04 3.53455350e+04\n",
      " 2.38345692e+04 1.21110235e+04 2.76544754e+04 3.56618163e+04\n",
      " 4.12589376e+04 2.51559548e+04 3.23513793e+04 5.83003324e+04\n",
      " 6.75117529e+04 6.74516518e+04 7.32106850e+04 7.58137965e+04\n",
      " 6.34837896e+04 5.65165565e+04 5.32275848e+04 3.77128971e+04\n",
      " 1.42469131e+04 2.53644676e+04 1.99684146e+04 2.27371166e+04\n",
      " 1.56675613e+04 5.28698300e+04 3.88794865e+04 2.63277570e+04\n",
      " 4.22473818e+04 4.88337336e+04 4.70091362e+04 5.58866704e+04\n",
      " 4.50960596e+04 5.07143921e+04 6.10374340e+04 4.45246535e+04\n",
      " 5.11206353e+04 7.15838515e+04 5.57857649e+04 4.40955501e+04\n",
      " 1.85314166e+04 3.24212498e+04 2.79007321e+04 2.45784709e+04\n",
      " 8.96872964e+03 1.63122825e+04 1.13089042e+04 2.36504912e+04\n",
      " 2.73667389e+04 2.79525639e+04 2.36326862e+04 2.38018925e+04\n",
      " 1.99702602e+04 2.08167324e+04 2.32316858e+04 2.75335828e+04\n",
      " 2.87711953e+04 2.73262117e+04 2.29140227e+04 3.25098827e+04\n",
      " 4.06095643e+04 4.74489812e+04 5.14619882e+04 6.36507047e+04\n",
      " 5.91440212e+04 5.49929419e+04 4.83633445e+04 4.60724786e+04\n",
      " 4.71624362e+04 4.92799304e+04 5.09833886e+04 4.92934500e+04\n",
      " 5.23288036e+04 4.40966898e+04 4.70055004e+04 4.33482470e+04\n",
      " 4.26767631e+04 3.82498022e+04 4.30055180e+04 3.98813025e+04\n",
      " 3.80543050e+04 4.03672290e+04 4.12328769e+04 4.34587939e+04\n",
      " 4.63520597e+04 4.46384186e+04 4.40196138e+04 3.50437076e+04\n",
      " 4.17364241e+04 4.32628981e+04 3.48863805e+04 3.47412664e+04\n",
      " 2.77240771e+04 2.59024508e+04 2.32468704e+04 2.21080721e+04\n",
      " 1.94828026e+04 2.09049411e+04 2.31608238e+04 2.46120347e+04\n",
      " 2.00960925e+04 2.01302881e+04 2.31585433e+04 2.76747607e+04\n",
      " 3.67128705e+04 3.65442308e+04 2.37335646e+04 2.98607668e+04\n",
      " 3.95293727e+04 4.20861798e+04 4.25295478e+04 4.02066097e+04\n",
      " 3.79435890e+04 3.98378983e+04 4.28542555e+04 4.67144514e+04\n",
      " 5.37180636e+04 4.37997850e+04 3.88584241e+04 4.84233190e+04\n",
      " 4.51015473e+04 4.98648970e+04 5.60415321e+04 6.46201603e+04\n",
      " 8.25724618e+04 8.95789232e+04 8.57681853e+04 8.93310955e+04\n",
      " 9.31906754e+04 9.28420488e+04 8.39832559e+04 8.27564848e+04\n",
      " 7.30466220e+04 6.87896694e+04 6.10442121e+04 5.60018119e+04\n",
      " 6.37618586e+04 4.67597897e+04 5.82012285e+04 7.95779569e+04\n",
      " 6.04500347e+04 5.18945344e+04 4.90501260e+04 4.95583206e+04\n",
      " 5.00613012e+04 5.04211389e+04 5.03385177e+04 5.01516646e+04\n",
      " 4.97548584e+04 4.96098289e+04 4.94968751e+04 4.91891911e+04\n",
      " 4.89214262e+04 4.88574717e+04 4.86150423e+04 4.80911286e+04\n",
      " 4.75888278e+04 4.71347565e+04 4.67149074e+04 4.61946678e+04\n",
      " 4.58383149e+04 4.52204369e+04 4.48597767e+04 4.43690425e+04\n",
      " 4.37351605e+04 4.33034344e+04 4.29313741e+04]\n"
     ]
    }
   ],
   "source": [
    "print(inflow_t)"
   ]
  },
  {
   "cell_type": "markdown",
   "metadata": {},
   "source": [
    "# Enter stock into stock driven model to get inflows by cohort over time"
   ]
  },
  {
   "cell_type": "code",
   "execution_count": 47,
   "metadata": {},
   "outputs": [
    {
     "ename": "TypeError",
     "evalue": "unsupported operand type(s) for *: 'NoneType' and 'float'",
     "output_type": "error",
     "traceback": [
      "\u001b[1;31m---------------------------------------------------------------------------\u001b[0m",
      "\u001b[1;31mTypeError\u001b[0m                                 Traceback (most recent call last)",
      "Cell \u001b[1;32mIn[47], line 30\u001b[0m\n\u001b[0;32m     27\u001b[0m     dwellings_inflow_driven\u001b[38;5;241m.\u001b[39mcompute_s_c_inflow_driven()\n\u001b[0;32m     28\u001b[0m     \u001b[38;5;28;01mreturn\u001b[39;00m dwellings_inflow_driven\u001b[38;5;241m.\u001b[39ms_c\n\u001b[1;32m---> 30\u001b[0m s_c_SFH \u001b[38;5;241m=\u001b[39m \u001b[43mstock_model\u001b[49m\u001b[43m(\u001b[49m\u001b[43mstock_t_SFH\u001b[49m\u001b[43m)\u001b[49m\n\u001b[0;32m     31\u001b[0m s_c_TH \u001b[38;5;241m=\u001b[39m stock_model(stock_t_TH)\n\u001b[0;32m     32\u001b[0m s_c_AB \u001b[38;5;241m=\u001b[39m stock_model(stock_t_AB)\n",
      "Cell \u001b[1;32mIn[47], line 18\u001b[0m, in \u001b[0;36mstock_model\u001b[1;34m(stock)\u001b[0m\n\u001b[0;32m     13\u001b[0m \u001b[38;5;66;03m#inflow_tc = dwellings_stock_driven.i_c\u001b[39;00m\n\u001b[0;32m     14\u001b[0m \n\u001b[0;32m     15\u001b[0m \u001b[38;5;66;03m#inflow_tc = dwellings_stock_driven.compute_i_c_from_s_c(stock.iloc[0])\u001b[39;00m\n\u001b[0;32m     16\u001b[0m inflow_tc \u001b[38;5;241m=\u001b[39m dwellings_stock_driven\u001b[38;5;241m.\u001b[39mi\n\u001b[1;32m---> 18\u001b[0m inflow_tcj \u001b[38;5;241m=\u001b[39m \u001b[43mnp\u001b[49m\u001b[38;5;241;43m.\u001b[39;49m\u001b[43mmultiply\u001b[49m\u001b[43m(\u001b[49m\u001b[43minflow_tc\u001b[49m\u001b[43m,\u001b[49m\u001b[43mTS_cj\u001b[49m\u001b[43m)\u001b[49m\n\u001b[0;32m     20\u001b[0m dwellings_inflow_driven \u001b[38;5;241m=\u001b[39m DynamicStockModel(t\u001b[38;5;241m=\u001b[39mnp\u001b[38;5;241m.\u001b[39marange(\u001b[38;5;241m1600\u001b[39m, \u001b[38;5;241m2050\u001b[39m),\n\u001b[0;32m     21\u001b[0m                     i\u001b[38;5;241m=\u001b[39minflow_tcj,\n\u001b[0;32m     22\u001b[0m                     lt\u001b[38;5;241m=\u001b[39m{\u001b[38;5;124m'\u001b[39m\u001b[38;5;124mType\u001b[39m\u001b[38;5;124m'\u001b[39m: \u001b[38;5;124m'\u001b[39m\u001b[38;5;124mNormal\u001b[39m\u001b[38;5;124m'\u001b[39m, \n\u001b[1;32m   (...)\u001b[0m\n\u001b[0;32m     25\u001b[0m                         }\n\u001b[0;32m     26\u001b[0m                     )\n\u001b[0;32m     27\u001b[0m dwellings_inflow_driven\u001b[38;5;241m.\u001b[39mcompute_s_c_inflow_driven()\n",
      "File \u001b[1;32mc:\\Users\\grace\\miniconda3\\envs\\TEP4221\\lib\\site-packages\\pandas\\core\\generic.py:2101\u001b[0m, in \u001b[0;36mNDFrame.__array_ufunc__\u001b[1;34m(self, ufunc, method, *inputs, **kwargs)\u001b[0m\n\u001b[0;32m   2097\u001b[0m \u001b[38;5;129m@final\u001b[39m\n\u001b[0;32m   2098\u001b[0m \u001b[38;5;28;01mdef\u001b[39;00m \u001b[38;5;21m__array_ufunc__\u001b[39m(\n\u001b[0;32m   2099\u001b[0m     \u001b[38;5;28mself\u001b[39m, ufunc: np\u001b[38;5;241m.\u001b[39mufunc, method: \u001b[38;5;28mstr\u001b[39m, \u001b[38;5;241m*\u001b[39minputs: Any, \u001b[38;5;241m*\u001b[39m\u001b[38;5;241m*\u001b[39mkwargs: Any\n\u001b[0;32m   2100\u001b[0m ):\n\u001b[1;32m-> 2101\u001b[0m     \u001b[38;5;28;01mreturn\u001b[39;00m \u001b[43marraylike\u001b[49m\u001b[38;5;241;43m.\u001b[39;49m\u001b[43marray_ufunc\u001b[49m\u001b[43m(\u001b[49m\u001b[38;5;28;43mself\u001b[39;49m\u001b[43m,\u001b[49m\u001b[43m \u001b[49m\u001b[43mufunc\u001b[49m\u001b[43m,\u001b[49m\u001b[43m \u001b[49m\u001b[43mmethod\u001b[49m\u001b[43m,\u001b[49m\u001b[43m \u001b[49m\u001b[38;5;241;43m*\u001b[39;49m\u001b[43minputs\u001b[49m\u001b[43m,\u001b[49m\u001b[43m \u001b[49m\u001b[38;5;241;43m*\u001b[39;49m\u001b[38;5;241;43m*\u001b[39;49m\u001b[43mkwargs\u001b[49m\u001b[43m)\u001b[49m\n",
      "File \u001b[1;32mc:\\Users\\grace\\miniconda3\\envs\\TEP4221\\lib\\site-packages\\pandas\\core\\arraylike.py:263\u001b[0m, in \u001b[0;36marray_ufunc\u001b[1;34m(self, ufunc, method, *inputs, **kwargs)\u001b[0m\n\u001b[0;32m    260\u001b[0m     \u001b[38;5;28;01mreturn\u001b[39;00m result\n\u001b[0;32m    262\u001b[0m \u001b[38;5;66;03m# for binary ops, use our custom dunder methods\u001b[39;00m\n\u001b[1;32m--> 263\u001b[0m result \u001b[38;5;241m=\u001b[39m \u001b[43mmaybe_dispatch_ufunc_to_dunder_op\u001b[49m\u001b[43m(\u001b[49m\u001b[38;5;28;43mself\u001b[39;49m\u001b[43m,\u001b[49m\u001b[43m \u001b[49m\u001b[43mufunc\u001b[49m\u001b[43m,\u001b[49m\u001b[43m \u001b[49m\u001b[43mmethod\u001b[49m\u001b[43m,\u001b[49m\u001b[43m \u001b[49m\u001b[38;5;241;43m*\u001b[39;49m\u001b[43minputs\u001b[49m\u001b[43m,\u001b[49m\u001b[43m \u001b[49m\u001b[38;5;241;43m*\u001b[39;49m\u001b[38;5;241;43m*\u001b[39;49m\u001b[43mkwargs\u001b[49m\u001b[43m)\u001b[49m\n\u001b[0;32m    264\u001b[0m \u001b[38;5;28;01mif\u001b[39;00m result \u001b[38;5;129;01mis\u001b[39;00m \u001b[38;5;129;01mnot\u001b[39;00m \u001b[38;5;28mNotImplemented\u001b[39m:\n\u001b[0;32m    265\u001b[0m     \u001b[38;5;28;01mreturn\u001b[39;00m result\n",
      "File \u001b[1;32mc:\\Users\\grace\\miniconda3\\envs\\TEP4221\\lib\\site-packages\\pandas\\_libs\\ops_dispatch.pyx:113\u001b[0m, in \u001b[0;36mpandas._libs.ops_dispatch.maybe_dispatch_ufunc_to_dunder_op\u001b[1;34m()\u001b[0m\n",
      "File \u001b[1;32mc:\\Users\\grace\\miniconda3\\envs\\TEP4221\\lib\\site-packages\\pandas\\core\\ops\\common.py:70\u001b[0m, in \u001b[0;36m_unpack_zerodim_and_defer.<locals>.new_method\u001b[1;34m(self, other)\u001b[0m\n\u001b[0;32m     66\u001b[0m             \u001b[38;5;28;01mreturn\u001b[39;00m \u001b[38;5;28mNotImplemented\u001b[39m\n\u001b[0;32m     68\u001b[0m other \u001b[38;5;241m=\u001b[39m item_from_zerodim(other)\n\u001b[1;32m---> 70\u001b[0m \u001b[38;5;28;01mreturn\u001b[39;00m \u001b[43mmethod\u001b[49m\u001b[43m(\u001b[49m\u001b[38;5;28;43mself\u001b[39;49m\u001b[43m,\u001b[49m\u001b[43m \u001b[49m\u001b[43mother\u001b[49m\u001b[43m)\u001b[49m\n",
      "File \u001b[1;32mc:\\Users\\grace\\miniconda3\\envs\\TEP4221\\lib\\site-packages\\pandas\\core\\arraylike.py:120\u001b[0m, in \u001b[0;36mOpsMixin.__rmul__\u001b[1;34m(self, other)\u001b[0m\n\u001b[0;32m    118\u001b[0m \u001b[38;5;129m@unpack_zerodim_and_defer\u001b[39m(\u001b[38;5;124m\"\u001b[39m\u001b[38;5;124m__rmul__\u001b[39m\u001b[38;5;124m\"\u001b[39m)\n\u001b[0;32m    119\u001b[0m \u001b[38;5;28;01mdef\u001b[39;00m \u001b[38;5;21m__rmul__\u001b[39m(\u001b[38;5;28mself\u001b[39m, other):\n\u001b[1;32m--> 120\u001b[0m     \u001b[38;5;28;01mreturn\u001b[39;00m \u001b[38;5;28;43mself\u001b[39;49m\u001b[38;5;241;43m.\u001b[39;49m\u001b[43m_arith_method\u001b[49m\u001b[43m(\u001b[49m\u001b[43mother\u001b[49m\u001b[43m,\u001b[49m\u001b[43m \u001b[49m\u001b[43mroperator\u001b[49m\u001b[38;5;241;43m.\u001b[39;49m\u001b[43mrmul\u001b[49m\u001b[43m)\u001b[49m\n",
      "File \u001b[1;32mc:\\Users\\grace\\miniconda3\\envs\\TEP4221\\lib\\site-packages\\pandas\\core\\frame.py:6946\u001b[0m, in \u001b[0;36mDataFrame._arith_method\u001b[1;34m(self, other, op)\u001b[0m\n\u001b[0;32m   6942\u001b[0m other \u001b[38;5;241m=\u001b[39m ops\u001b[38;5;241m.\u001b[39mmaybe_prepare_scalar_for_op(other, (\u001b[38;5;28mself\u001b[39m\u001b[38;5;241m.\u001b[39mshape[axis],))\n\u001b[0;32m   6944\u001b[0m \u001b[38;5;28mself\u001b[39m, other \u001b[38;5;241m=\u001b[39m ops\u001b[38;5;241m.\u001b[39malign_method_FRAME(\u001b[38;5;28mself\u001b[39m, other, axis, flex\u001b[38;5;241m=\u001b[39m\u001b[38;5;28;01mTrue\u001b[39;00m, level\u001b[38;5;241m=\u001b[39m\u001b[38;5;28;01mNone\u001b[39;00m)\n\u001b[1;32m-> 6946\u001b[0m new_data \u001b[38;5;241m=\u001b[39m \u001b[38;5;28;43mself\u001b[39;49m\u001b[38;5;241;43m.\u001b[39;49m\u001b[43m_dispatch_frame_op\u001b[49m\u001b[43m(\u001b[49m\u001b[43mother\u001b[49m\u001b[43m,\u001b[49m\u001b[43m \u001b[49m\u001b[43mop\u001b[49m\u001b[43m,\u001b[49m\u001b[43m \u001b[49m\u001b[43maxis\u001b[49m\u001b[38;5;241;43m=\u001b[39;49m\u001b[43maxis\u001b[49m\u001b[43m)\u001b[49m\n\u001b[0;32m   6947\u001b[0m \u001b[38;5;28;01mreturn\u001b[39;00m \u001b[38;5;28mself\u001b[39m\u001b[38;5;241m.\u001b[39m_construct_result(new_data)\n",
      "File \u001b[1;32mc:\\Users\\grace\\miniconda3\\envs\\TEP4221\\lib\\site-packages\\pandas\\core\\frame.py:6973\u001b[0m, in \u001b[0;36mDataFrame._dispatch_frame_op\u001b[1;34m(self, right, func, axis)\u001b[0m\n\u001b[0;32m   6970\u001b[0m \u001b[38;5;28;01mif\u001b[39;00m \u001b[38;5;129;01mnot\u001b[39;00m is_list_like(right):\n\u001b[0;32m   6971\u001b[0m     \u001b[38;5;66;03m# i.e. scalar, faster than checking np.ndim(right) == 0\u001b[39;00m\n\u001b[0;32m   6972\u001b[0m     \u001b[38;5;28;01mwith\u001b[39;00m np\u001b[38;5;241m.\u001b[39merrstate(\u001b[38;5;28mall\u001b[39m\u001b[38;5;241m=\u001b[39m\u001b[38;5;124m\"\u001b[39m\u001b[38;5;124mignore\u001b[39m\u001b[38;5;124m\"\u001b[39m):\n\u001b[1;32m-> 6973\u001b[0m         bm \u001b[38;5;241m=\u001b[39m \u001b[38;5;28;43mself\u001b[39;49m\u001b[38;5;241;43m.\u001b[39;49m\u001b[43m_mgr\u001b[49m\u001b[38;5;241;43m.\u001b[39;49m\u001b[43mapply\u001b[49m\u001b[43m(\u001b[49m\u001b[43marray_op\u001b[49m\u001b[43m,\u001b[49m\u001b[43m \u001b[49m\u001b[43mright\u001b[49m\u001b[38;5;241;43m=\u001b[39;49m\u001b[43mright\u001b[49m\u001b[43m)\u001b[49m\n\u001b[0;32m   6974\u001b[0m     \u001b[38;5;28;01mreturn\u001b[39;00m \u001b[38;5;28mself\u001b[39m\u001b[38;5;241m.\u001b[39m_constructor(bm)\n\u001b[0;32m   6976\u001b[0m \u001b[38;5;28;01melif\u001b[39;00m \u001b[38;5;28misinstance\u001b[39m(right, DataFrame):\n",
      "File \u001b[1;32mc:\\Users\\grace\\miniconda3\\envs\\TEP4221\\lib\\site-packages\\pandas\\core\\internals\\managers.py:302\u001b[0m, in \u001b[0;36mBaseBlockManager.apply\u001b[1;34m(self, f, align_keys, ignore_failures, **kwargs)\u001b[0m\n\u001b[0;32m    300\u001b[0m \u001b[38;5;28;01mtry\u001b[39;00m:\n\u001b[0;32m    301\u001b[0m     \u001b[38;5;28;01mif\u001b[39;00m callable(f):\n\u001b[1;32m--> 302\u001b[0m         applied \u001b[38;5;241m=\u001b[39m \u001b[43mb\u001b[49m\u001b[38;5;241;43m.\u001b[39;49m\u001b[43mapply\u001b[49m\u001b[43m(\u001b[49m\u001b[43mf\u001b[49m\u001b[43m,\u001b[49m\u001b[43m \u001b[49m\u001b[38;5;241;43m*\u001b[39;49m\u001b[38;5;241;43m*\u001b[39;49m\u001b[43mkwargs\u001b[49m\u001b[43m)\u001b[49m\n\u001b[0;32m    303\u001b[0m     \u001b[38;5;28;01melse\u001b[39;00m:\n\u001b[0;32m    304\u001b[0m         applied \u001b[38;5;241m=\u001b[39m \u001b[38;5;28mgetattr\u001b[39m(b, f)(\u001b[38;5;241m*\u001b[39m\u001b[38;5;241m*\u001b[39mkwargs)\n",
      "File \u001b[1;32mc:\\Users\\grace\\miniconda3\\envs\\TEP4221\\lib\\site-packages\\pandas\\core\\internals\\blocks.py:402\u001b[0m, in \u001b[0;36mBlock.apply\u001b[1;34m(self, func, **kwargs)\u001b[0m\n\u001b[0;32m    396\u001b[0m \u001b[38;5;129m@final\u001b[39m\n\u001b[0;32m    397\u001b[0m \u001b[38;5;28;01mdef\u001b[39;00m \u001b[38;5;21mapply\u001b[39m(\u001b[38;5;28mself\u001b[39m, func, \u001b[38;5;241m*\u001b[39m\u001b[38;5;241m*\u001b[39mkwargs) \u001b[38;5;241m-\u001b[39m\u001b[38;5;241m>\u001b[39m \u001b[38;5;28mlist\u001b[39m[Block]:\n\u001b[0;32m    398\u001b[0m \u001b[38;5;250m    \u001b[39m\u001b[38;5;124;03m\"\"\"\u001b[39;00m\n\u001b[0;32m    399\u001b[0m \u001b[38;5;124;03m    apply the function to my values; return a block if we are not\u001b[39;00m\n\u001b[0;32m    400\u001b[0m \u001b[38;5;124;03m    one\u001b[39;00m\n\u001b[0;32m    401\u001b[0m \u001b[38;5;124;03m    \"\"\"\u001b[39;00m\n\u001b[1;32m--> 402\u001b[0m     result \u001b[38;5;241m=\u001b[39m \u001b[43mfunc\u001b[49m\u001b[43m(\u001b[49m\u001b[38;5;28;43mself\u001b[39;49m\u001b[38;5;241;43m.\u001b[39;49m\u001b[43mvalues\u001b[49m\u001b[43m,\u001b[49m\u001b[43m \u001b[49m\u001b[38;5;241;43m*\u001b[39;49m\u001b[38;5;241;43m*\u001b[39;49m\u001b[43mkwargs\u001b[49m\u001b[43m)\u001b[49m\n\u001b[0;32m    404\u001b[0m     \u001b[38;5;28;01mreturn\u001b[39;00m \u001b[38;5;28mself\u001b[39m\u001b[38;5;241m.\u001b[39m_split_op_result(result)\n",
      "File \u001b[1;32mc:\\Users\\grace\\miniconda3\\envs\\TEP4221\\lib\\site-packages\\pandas\\core\\ops\\array_ops.py:222\u001b[0m, in \u001b[0;36marithmetic_op\u001b[1;34m(left, right, op)\u001b[0m\n\u001b[0;32m    217\u001b[0m \u001b[38;5;28;01melse\u001b[39;00m:\n\u001b[0;32m    218\u001b[0m     \u001b[38;5;66;03m# TODO we should handle EAs consistently and move this check before the if/else\u001b[39;00m\n\u001b[0;32m    219\u001b[0m     \u001b[38;5;66;03m# (https://github.com/pandas-dev/pandas/issues/41165)\u001b[39;00m\n\u001b[0;32m    220\u001b[0m     _bool_arith_check(op, left, right)\n\u001b[1;32m--> 222\u001b[0m     res_values \u001b[38;5;241m=\u001b[39m \u001b[43m_na_arithmetic_op\u001b[49m\u001b[43m(\u001b[49m\u001b[43mleft\u001b[49m\u001b[43m,\u001b[49m\u001b[43m \u001b[49m\u001b[43mright\u001b[49m\u001b[43m,\u001b[49m\u001b[43m \u001b[49m\u001b[43mop\u001b[49m\u001b[43m)\u001b[49m\n\u001b[0;32m    224\u001b[0m \u001b[38;5;28;01mreturn\u001b[39;00m res_values\n",
      "File \u001b[1;32mc:\\Users\\grace\\miniconda3\\envs\\TEP4221\\lib\\site-packages\\pandas\\core\\ops\\array_ops.py:163\u001b[0m, in \u001b[0;36m_na_arithmetic_op\u001b[1;34m(left, right, op, is_cmp)\u001b[0m\n\u001b[0;32m    160\u001b[0m     func \u001b[38;5;241m=\u001b[39m partial(expressions\u001b[38;5;241m.\u001b[39mevaluate, op)\n\u001b[0;32m    162\u001b[0m \u001b[38;5;28;01mtry\u001b[39;00m:\n\u001b[1;32m--> 163\u001b[0m     result \u001b[38;5;241m=\u001b[39m \u001b[43mfunc\u001b[49m\u001b[43m(\u001b[49m\u001b[43mleft\u001b[49m\u001b[43m,\u001b[49m\u001b[43m \u001b[49m\u001b[43mright\u001b[49m\u001b[43m)\u001b[49m\n\u001b[0;32m    164\u001b[0m \u001b[38;5;28;01mexcept\u001b[39;00m \u001b[38;5;167;01mTypeError\u001b[39;00m:\n\u001b[0;32m    165\u001b[0m     \u001b[38;5;28;01mif\u001b[39;00m \u001b[38;5;129;01mnot\u001b[39;00m is_cmp \u001b[38;5;129;01mand\u001b[39;00m (is_object_dtype(left\u001b[38;5;241m.\u001b[39mdtype) \u001b[38;5;129;01mor\u001b[39;00m is_object_dtype(right)):\n\u001b[0;32m    166\u001b[0m         \u001b[38;5;66;03m# For object dtype, fallback to a masked operation (only operating\u001b[39;00m\n\u001b[0;32m    167\u001b[0m         \u001b[38;5;66;03m#  on the non-missing values)\u001b[39;00m\n\u001b[0;32m    168\u001b[0m         \u001b[38;5;66;03m# Don't do this for comparisons, as that will handle complex numbers\u001b[39;00m\n\u001b[0;32m    169\u001b[0m         \u001b[38;5;66;03m#  incorrectly, see GH#32047\u001b[39;00m\n",
      "File \u001b[1;32mc:\\Users\\grace\\miniconda3\\envs\\TEP4221\\lib\\site-packages\\pandas\\core\\computation\\expressions.py:239\u001b[0m, in \u001b[0;36mevaluate\u001b[1;34m(op, a, b, use_numexpr)\u001b[0m\n\u001b[0;32m    236\u001b[0m \u001b[38;5;28;01mif\u001b[39;00m op_str \u001b[38;5;129;01mis\u001b[39;00m \u001b[38;5;129;01mnot\u001b[39;00m \u001b[38;5;28;01mNone\u001b[39;00m:\n\u001b[0;32m    237\u001b[0m     \u001b[38;5;28;01mif\u001b[39;00m use_numexpr:\n\u001b[0;32m    238\u001b[0m         \u001b[38;5;66;03m# error: \"None\" not callable\u001b[39;00m\n\u001b[1;32m--> 239\u001b[0m         \u001b[38;5;28;01mreturn\u001b[39;00m \u001b[43m_evaluate\u001b[49m\u001b[43m(\u001b[49m\u001b[43mop\u001b[49m\u001b[43m,\u001b[49m\u001b[43m \u001b[49m\u001b[43mop_str\u001b[49m\u001b[43m,\u001b[49m\u001b[43m \u001b[49m\u001b[43ma\u001b[49m\u001b[43m,\u001b[49m\u001b[43m \u001b[49m\u001b[43mb\u001b[49m\u001b[43m)\u001b[49m  \u001b[38;5;66;03m# type: ignore[misc]\u001b[39;00m\n\u001b[0;32m    240\u001b[0m \u001b[38;5;28;01mreturn\u001b[39;00m _evaluate_standard(op, op_str, a, b)\n",
      "File \u001b[1;32mc:\\Users\\grace\\miniconda3\\envs\\TEP4221\\lib\\site-packages\\pandas\\core\\computation\\expressions.py:69\u001b[0m, in \u001b[0;36m_evaluate_standard\u001b[1;34m(op, op_str, a, b)\u001b[0m\n\u001b[0;32m     67\u001b[0m \u001b[38;5;28;01mif\u001b[39;00m _TEST_MODE:\n\u001b[0;32m     68\u001b[0m     _store_test_result(\u001b[38;5;28;01mFalse\u001b[39;00m)\n\u001b[1;32m---> 69\u001b[0m \u001b[38;5;28;01mreturn\u001b[39;00m \u001b[43mop\u001b[49m\u001b[43m(\u001b[49m\u001b[43ma\u001b[49m\u001b[43m,\u001b[49m\u001b[43m \u001b[49m\u001b[43mb\u001b[49m\u001b[43m)\u001b[49m\n",
      "File \u001b[1;32mc:\\Users\\grace\\miniconda3\\envs\\TEP4221\\lib\\site-packages\\pandas\\core\\roperator.py:17\u001b[0m, in \u001b[0;36mrmul\u001b[1;34m(left, right)\u001b[0m\n\u001b[0;32m     16\u001b[0m \u001b[38;5;28;01mdef\u001b[39;00m \u001b[38;5;21mrmul\u001b[39m(left, right):\n\u001b[1;32m---> 17\u001b[0m     \u001b[38;5;28;01mreturn\u001b[39;00m \u001b[43mright\u001b[49m\u001b[43m \u001b[49m\u001b[38;5;241;43m*\u001b[39;49m\u001b[43m \u001b[49m\u001b[43mleft\u001b[49m\n",
      "\u001b[1;31mTypeError\u001b[0m: unsupported operand type(s) for *: 'NoneType' and 'float'"
     ]
    }
   ],
   "source": [
    "from dynamic_stock_model import DynamicStockModel\n",
    "\n",
    "#! The following function and runs of it should effectively iterate things over for each of the types\n",
    "\n",
    "def stock_model(stock):\n",
    "    dwellings_stock_driven = DynamicStockModel(t=np.arange(1600, 2051),\n",
    "                         s=stock,\n",
    "                         lt={'Type': 'Normal', \n",
    "                             'Mean': lifetime,\n",
    "                             'StdDev':lifetime_standard_deviation\n",
    "                             }\n",
    "                        )\n",
    "    #inflow_tc = dwellings_stock_driven.i_c\n",
    "\n",
    "    dwellings_stock_driven.compute_stock_driven_model(NegativeInflowCorrect = True)\n",
    "    inflow_t = dwellings_stock_driven.i\n",
    "    \n",
    "\n",
    "     \n",
    "    inflow_tcj = np.multiply(inflow_tc,TS_cj)\n",
    "    \n",
    "    dwellings_inflow_driven = DynamicStockModel(t=np.arange(1600, 2051),\n",
    "                        i=inflow_tcj,\n",
    "                        lt={'Type': 'Normal', \n",
    "                            'Mean': lifetime,\n",
    "                            'StdDev': lifetime_standard_deviation \n",
    "                            }\n",
    "                        )\n",
    "    dwellings_inflow_driven.compute_s_c_inflow_driven()\n",
    "    return dwellings_inflow_driven.s_c\n",
    "\n",
    "s_c_SFH = stock_model(stock_t_SFH)\n",
    "s_c_TH = stock_model(stock_t_TH)\n",
    "s_c_AB = stock_model(stock_t_AB)\n",
    "\n",
    "#! make some kind of stacked line chart with this. also compute sum\n",
    "\n",
    "s_c_total = s_c_SFH + s_c_TH + s_c_AB\n",
    "\n",
    "\n",
    "\n",
    "\n",
    "#! I'm not sure if we can use a vector of different lifetime values or if there can only be one constant. Check DSM module\n",
    "\n",
    "dwellings_stock_driven = DynamicStockModel(t=np.arange(1600, 2050),\n",
    "                         s=stock_t,\n",
    "                         lt={'Type': 'Normal', \n",
    "                             'Mean': [lifetime],\n",
    "                             'StdDev':[lifetime_standard_deviation] \n",
    "                             }\n",
    "                        )\n",
    "\n",
    "#! I think the following will work but I'm not 100% sure\n",
    "# Calculate the inflow\n",
    "inflow_tc = dwellings_stock_driven.i_c"
   ]
  },
  {
   "cell_type": "markdown",
   "metadata": {},
   "source": [
    "# multiply inflow by type split to get inflow by type split and cohort"
   ]
  },
  {
   "cell_type": "code",
   "execution_count": null,
   "metadata": {},
   "outputs": [],
   "source": [
    "inflow_tcj = np.multiply(inflow_tc,TS_cj)"
   ]
  },
  {
   "cell_type": "markdown",
   "metadata": {},
   "source": [
    "# enter inflow by type split and cohort into inflow driven model to get stock by cohort and type split over time"
   ]
  },
  {
   "cell_type": "code",
   "execution_count": null,
   "metadata": {},
   "outputs": [],
   "source": [
    "# Define our dynamic stock model using our data and parameters\n",
    "dwellings_inflow_driven = DynamicStockModel(t=np.arange(1600, 2050),\n",
    "                        i=inflow_tcj,\n",
    "                        lt={'Type': 'Normal', \n",
    "                            'Mean': np.array([lifetime]),\n",
    "                            'StdDev': np.array([lifetime_standard_deviation]) \n",
    "                            }\n",
    "                        )\n",
    "\n",
    "\n",
    "#! I think the following will work but I'm not 100% sure\n",
    "# Calculate the stock by cohort\n",
    "dwellings_inflow_driven.compute_s_c_inflow_driven()\n",
    "s_c = dwellings_inflow_driven.s_c\n"
   ]
  }
 ],
 "metadata": {
  "kernelspec": {
   "display_name": "TEP4221",
   "language": "python",
   "name": "python3"
  },
  "language_info": {
   "codemirror_mode": {
    "name": "ipython",
    "version": 3
   },
   "file_extension": ".py",
   "mimetype": "text/x-python",
   "name": "python",
   "nbconvert_exporter": "python",
   "pygments_lexer": "ipython3",
   "version": "3.8.16"
  }
 },
 "nbformat": 4,
 "nbformat_minor": 2
}
