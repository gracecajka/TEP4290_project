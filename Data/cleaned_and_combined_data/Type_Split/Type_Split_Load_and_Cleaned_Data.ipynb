{
 "cells": [
  {
   "cell_type": "markdown",
   "metadata": {},
   "source": [
    "Clean Type-split-data from 2012. \n",
    "Find percentage of each dwelling type, Single Family House (SFH), Terraced House (TH) and Apartment Block (AB).\n",
    "Result:\n",
    "SFH_ratio   52.22%\n",
    "TH_ratio    20.62%\n",
    "AB_ratio    27.16%"
   ]
  },
  {
   "cell_type": "markdown",
   "metadata": {},
   "source": [
    "If we want to compare the ratios with data from 2011:\n",
    "SFH_ratio   52.9% Detached house\n",
    "TH_ratio    21%  House with 2 dwellings + Row house, linked house and house with 3 dwellings or more\n",
    "AB_ratio    22.7% Multi-dwelling building\n",
    "Other        3.4% Residence for communities and other building\n",
    "\n",
    "https://www.ssb.no/101960/occupied-dwellings-and-occupants-by-type-of-building-county-municipality-and-urban-district.2011.per-cent"
   ]
  },
  {
   "cell_type": "markdown",
   "metadata": {},
   "source": [
    "If we want to compare the ratio of Detached house among occupied buildings (assume close to Single Family House (SFH), but includes even more) for 1980, 1990, 2001 and 2011:\n",
    "SFH_ratio   52.9%   Detached house in 1980\n",
    "SFH_ratio   58.1%   Detached house in 1990\n",
    "SFH_ratio   57.1%   Detached house in 2001\n",
    "SFH_ratio   52.9%   Detached house in 2011\n",
    "\n",
    "https://www.ssb.no/101962/occupied-dwellings-and-occupants-by-type-of-building.1980-1990-2001-and-2011"
   ]
  },
  {
   "cell_type": "code",
   "execution_count": 59,
   "metadata": {},
   "outputs": [],
   "source": [
    "#All imports\n",
    "import pandas as pd\n",
    "import numpy as np\n",
    "\n",
    "import os\n",
    "from pathlib import Path\n",
    "import copy\n",
    "import matplotlib.pyplot as plt\n",
    "from datetime import datetime\n",
    "import sys\n",
    "from scipy.optimize import curve_fit"
   ]
  },
  {
   "cell_type": "code",
   "execution_count": 60,
   "metadata": {},
   "outputs": [],
   "source": [
    "#* Define paths\n",
    "directory_path = Path('../../../')"
   ]
  },
  {
   "cell_type": "code",
   "execution_count": 61,
   "metadata": {},
   "outputs": [
    {
     "data": {
      "text/html": [
       "<div>\n",
       "<style scoped>\n",
       "    .dataframe tbody tr th:only-of-type {\n",
       "        vertical-align: middle;\n",
       "    }\n",
       "\n",
       "    .dataframe tbody tr th {\n",
       "        vertical-align: top;\n",
       "    }\n",
       "\n",
       "    .dataframe thead th {\n",
       "        text-align: right;\n",
       "    }\n",
       "</style>\n",
       "<table border=\"1\" class=\"dataframe\">\n",
       "  <thead>\n",
       "    <tr style=\"text-align: right;\">\n",
       "      <th></th>\n",
       "      <th>Age classes</th>\n",
       "      <th>SFH.1</th>\n",
       "      <th>TH.1</th>\n",
       "      <th>AB.1</th>\n",
       "      <th>Total.1</th>\n",
       "    </tr>\n",
       "  </thead>\n",
       "  <tbody>\n",
       "    <tr>\n",
       "      <th>0</th>\n",
       "      <td>1955 and before</td>\n",
       "      <td>401 482</td>\n",
       "      <td>143 241</td>\n",
       "      <td>179 666</td>\n",
       "      <td>724 389</td>\n",
       "    </tr>\n",
       "    <tr>\n",
       "      <th>1</th>\n",
       "      <td>1956 - 1970</td>\n",
       "      <td>227 929</td>\n",
       "      <td>81 577</td>\n",
       "      <td>121 358</td>\n",
       "      <td>430 864</td>\n",
       "    </tr>\n",
       "    <tr>\n",
       "      <th>2</th>\n",
       "      <td>1971 - 1980</td>\n",
       "      <td>219 673</td>\n",
       "      <td>72 521</td>\n",
       "      <td>91 387</td>\n",
       "      <td>383 581</td>\n",
       "    </tr>\n",
       "    <tr>\n",
       "      <th>3</th>\n",
       "      <td>1981 - 1990</td>\n",
       "      <td>202 228</td>\n",
       "      <td>70 619</td>\n",
       "      <td>57 471</td>\n",
       "      <td>330 318</td>\n",
       "    </tr>\n",
       "    <tr>\n",
       "      <th>4</th>\n",
       "      <td>1991 - 2000</td>\n",
       "      <td>109 696</td>\n",
       "      <td>55 632</td>\n",
       "      <td>65 056</td>\n",
       "      <td>230 384</td>\n",
       "    </tr>\n",
       "    <tr>\n",
       "      <th>5</th>\n",
       "      <td>2001 - 2010</td>\n",
       "      <td>98 808</td>\n",
       "      <td>67 624</td>\n",
       "      <td>126 975</td>\n",
       "      <td>293 407</td>\n",
       "    </tr>\n",
       "    <tr>\n",
       "      <th>6</th>\n",
       "      <td>2011 and after</td>\n",
       "      <td>19 144</td>\n",
       "      <td>13 929</td>\n",
       "      <td>23 194</td>\n",
       "      <td>56 267</td>\n",
       "    </tr>\n",
       "    <tr>\n",
       "      <th>7</th>\n",
       "      <td>SUM</td>\n",
       "      <td>1 278 960</td>\n",
       "      <td>505 143</td>\n",
       "      <td>665 107</td>\n",
       "      <td>2 449 210</td>\n",
       "    </tr>\n",
       "  </tbody>\n",
       "</table>\n",
       "</div>"
      ],
      "text/plain": [
       "       Age classes      SFH.1     TH.1     AB.1    Total.1\n",
       "0  1955 and before    401 482  143 241  179 666    724 389\n",
       "1      1956 - 1970    227 929   81 577  121 358    430 864\n",
       "2      1971 - 1980    219 673   72 521   91 387    383 581\n",
       "3      1981 - 1990    202 228   70 619   57 471    330 318\n",
       "4      1991 - 2000    109 696   55 632   65 056    230 384\n",
       "5      2001 - 2010     98 808   67 624  126 975    293 407\n",
       "6   2011 and after     19 144   13 929   23 194     56 267\n",
       "7              SUM  1 278 960  505 143  665 107  2 449 210"
      ]
     },
     "execution_count": 61,
     "metadata": {},
     "output_type": "execute_result"
    }
   ],
   "source": [
    "# File path\n",
    "##file = \"raw_type_split.xlsx\" #only works if the file is in the same folder\n",
    "\n",
    "# Read the Excel file, only Number of dwellings (#)\n",
    "# Ignoring Number of buildings (#) and Utility floor space (1000 m²)\n",
    "usecols = [0] + list(range(5, 9)) # Ignore the unwanted colums\n",
    "skiprows = 0, # Ignore the header\n",
    "##data = pd.read_excel(file, header=0, usecols=usecols, skiprows=skiprows)\n",
    "data = pd.read_excel(\n",
    "    directory_path / 'data' / 'raw_data' / 'Type_Split' / 'raw_type_split.xlsx',\n",
    "    header=0, usecols=usecols, skiprows=skiprows)\n",
    "\n",
    "# Display all the wanted data\n",
    "data.head(9)"
   ]
  },
  {
   "cell_type": "code",
   "execution_count": 62,
   "metadata": {},
   "outputs": [
    {
     "name": "stdout",
     "output_type": "stream",
     "text": [
      "SFH_ratio   52.22%\n",
      "TH_ratio    20.62%\n",
      "AB_ratio    27.16%\n",
      "dtype: float64\n"
     ]
    }
   ],
   "source": [
    "# Creating a pandas series object of the last row with SUM of Dwellings in 2012\n",
    "SUM_dwellings = pd.Series([1278960, 505143, 665107, 2449210])\n",
    "SUM_dwellings.index = ['SFH', 'TH', 'AB', 'Total'] # Assigning names to the values\n",
    "\n",
    "# Dividing SUM values for each type, SFH, TH, and AB, by Total and storing them as new parameters\n",
    "SUM_dwellings['SFH_ratio'] = SUM_dwellings['SFH'] / SUM_dwellings['Total']\n",
    "SUM_dwellings['TH_ratio'] = SUM_dwellings['TH'] / SUM_dwellings['Total']\n",
    "SUM_dwellings['AB_ratio'] = SUM_dwellings['AB'] / SUM_dwellings['Total']\n",
    "\n",
    "# Display the ratios as both decimals and percentages\n",
    "#pd.set_option('display.float_format', '{:.2f}'.format) # To display option to show numbers in standard decimal notation\n",
    "pd.set_option('display.float_format', '{:.2%}'.format)\n",
    "\n",
    "# Display the result\n",
    "print(SUM_dwellings[['SFH_ratio', 'TH_ratio', 'AB_ratio']])"
   ]
  },
  {
   "cell_type": "code",
   "execution_count": 63,
   "metadata": {},
   "outputs": [
    {
     "name": "stdout",
     "output_type": "stream",
     "text": [
      "   SFH_ratio  TH_ratio  AB_ratio\n",
      "0     52.22%    20.62%    27.16%\n"
     ]
    }
   ],
   "source": [
    "#Make results to dataframe\n",
    "new_data = {'SFH_ratio': [0.5222], 'TH_ratio': [0.2062], 'AB_ratio': [0.2716]}\n",
    "\n",
    "# Create a DataFrame\n",
    "Type_Split_ratios = pd.DataFrame(new_data)\n",
    "\n",
    "# Display the new DataFrame\n",
    "print(Type_Split_ratios)\n",
    "#result_dataframe.head()"
   ]
  },
  {
   "cell_type": "code",
   "execution_count": 64,
   "metadata": {},
   "outputs": [],
   "source": [
    "#Export to excel-file in folder\n",
    "Type_Split_ratios.to_excel(directory_path / \n",
    "                 'Data/cleaned_and_combined_data/Type_Split/Type_Split_ratios.xlsx')"
   ]
  }
 ],
 "metadata": {
  "kernelspec": {
   "display_name": "TEP4221",
   "language": "python",
   "name": "python3"
  },
  "language_info": {
   "codemirror_mode": {
    "name": "ipython",
    "version": 3
   },
   "file_extension": ".py",
   "mimetype": "text/x-python",
   "name": "python",
   "nbconvert_exporter": "python",
   "pygments_lexer": "ipython3",
   "version": "3.8.17"
  }
 },
 "nbformat": 4,
 "nbformat_minor": 2
}
