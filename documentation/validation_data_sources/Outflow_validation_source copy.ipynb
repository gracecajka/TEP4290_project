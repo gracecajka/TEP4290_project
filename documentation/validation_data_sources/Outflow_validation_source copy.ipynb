{
 "cells": [
  {
   "cell_type": "markdown",
   "metadata": {},
   "source": [
    "Data source for year 2009-2023:"
   ]
  },
  {
   "cell_type": "markdown",
   "metadata": {},
   "source": [
    "Outflow of dwellings: https://www.ssb.no/en/statbank/table/10783/ (demolition of dwellings, 2009-2023)\n",
    "\n",
    "Table view: https://www.ssb.no/en/statbank/table/10783/tableViewLayout1/\n",
    "\n",
    "Updated 2024-02-15 08:00\n",
    "\n",
    "Unit Demolition of dwellings: dwellings\n",
    "\n",
    "Reference time Demolition of dwellings: 31.12.\n",
    "\n",
    "Source Statistics Norway"
   ]
  }
 ],
 "metadata": {
  "language_info": {
   "name": "python"
  }
 },
 "nbformat": 4,
 "nbformat_minor": 2
}
