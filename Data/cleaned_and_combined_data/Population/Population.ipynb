{
 "cells": [
  {
   "cell_type": "markdown",
   "metadata": {},
   "source": [
    "Merging 3 files with the Population data"
   ]
  },
  {
   "cell_type": "code",
   "execution_count": 2,
   "metadata": {},
   "outputs": [
    {
     "data": {
      "text/plain": [
       "'merged_norway_population.xlsx'"
      ]
     },
     "execution_count": 2,
     "metadata": {},
     "output_type": "execute_result"
    }
   ],
   "source": [
    "import pandas as pd\n",
    "import numpy as np\n",
    "\n",
    "# File paths\n",
    "file1 = \"norway_population 1600-1650.xlsx\"\n",
    "file2 = \"norway_population 1735-2023.xlsx\"\n",
    "file3 = \"norway_population 1980-2050.xlsx\"\n",
    "\n",
    "# Read the first and third Excel files\n",
    "df1 = pd.read_excel(file1)\n",
    "df2 = pd.read_excel(file2)\n",
    "df3 = pd.read_excel(file3)\n",
    "\n",
    "# Creating 'Population' column for projections in df3\n",
    "df3_projections = df3[df3['Year'] >= 2023][['Year', 'Main option (MMM)', 'Low national growth (LLL)', 'High national growth (HHH)']]\n",
    "df3_projections['Population'] = df3_projections[['Main option (MMM)', 'Low national growth (LLL)', 'High national growth (HHH)']].mean(axis=1)\n",
    "\n",
    "# Keeping only 'Year' and 'Population' columns for df3\n",
    "df3 = pd.concat([df3[df3['Year'] < 2023][['Year', 'Population']], df3_projections[['Year', 'Population']]])\n",
    "\n",
    "# Concatenate the dataframes\n",
    "merged_df = pd.concat([df1, df2, df3[['Year', 'Population']]])\n",
    "\n",
    "# Drop any duplicates and sort by year\n",
    "merged_df.drop_duplicates(subset='Year', keep='last', inplace=True)\n",
    "merged_df.sort_values(by='Year', inplace=True)\n",
    "merged_df.reset_index(drop=True, inplace=True)\n",
    "\n",
    "# Save the merged dataframe to a new Excel file\n",
    "output_file = \"merged_norway_population.xlsx\"\n",
    "merged_df.to_excel(output_file, index=False)\n",
    "\n",
    "# Output file path for user download\n",
    "output_file"
   ]
  }
 ],
 "metadata": {
  "kernelspec": {
   "display_name": "Python 3",
   "language": "python",
   "name": "python3"
  },
  "language_info": {
   "codemirror_mode": {
    "name": "ipython",
    "version": 3
   },
   "file_extension": ".py",
   "mimetype": "text/x-python",
   "name": "python",
   "nbconvert_exporter": "python",
   "pygments_lexer": "ipython3",
   "version": "3.8.17"
  }
 },
 "nbformat": 4,
 "nbformat_minor": 4
}
