{
 "cells": [
  {
   "cell_type": "code",
   "execution_count": 1,
   "metadata": {},
   "outputs": [
    {
     "data": {
      "text/plain": [
       "'_In this script, we ..._'"
      ]
     },
     "execution_count": 1,
     "metadata": {},
     "output_type": "execute_result"
    }
   ],
   "source": [
    "'''_In this script, we ..._'''"
   ]
  },
  {
   "cell_type": "code",
   "execution_count": 2,
   "metadata": {},
   "outputs": [],
   "source": [
    "# -*- coding: utf-8 -*- #\n",
    "# Authors: gracecaj@stud.ntnu.no, sbaarak@stud.ntnu.no, & annakale@stud.ntnu.no\n",
    "# Date: 19/09/2023"
   ]
  },
  {
   "cell_type": "code",
   "execution_count": 3,
   "metadata": {},
   "outputs": [],
   "source": [
    "#%%\n",
    "#* Import the code needed\n",
    "import os\n",
    "import pandas as pd\n",
    "from pathlib import Path\n",
    "import numpy as np\n",
    "import xarray as xr\n",
    "pd.set_option('display.float_format',  '{:,.2f}'.format)"
   ]
  },
  {
   "cell_type": "code",
   "execution_count": 4,
   "metadata": {},
   "outputs": [],
   "source": [
    "#%%\n",
    "#* Define paths\n",
    "directory_path = Path('../../')"
   ]
  },
  {
   "cell_type": "markdown",
   "metadata": {},
   "source": [
    "# Import all the raw datasets"
   ]
  },
  {
   "cell_type": "code",
   "execution_count": 5,
   "metadata": {},
   "outputs": [
    {
     "name": "stdout",
     "output_type": "stream",
     "text": [
      "      Population\n",
      "Year            \n",
      "1600      400000\n",
      "1650      450000\n",
      "      Population\n",
      "Year            \n",
      "1735      616109\n",
      "1736      622197\n",
      "1737      626986\n",
      "1738      630253\n",
      "1739      634164\n",
      "...          ...\n",
      "2019     5328212\n",
      "2020     5367580\n",
      "2021     5391369\n",
      "2022     5425270\n",
      "2023     5488984\n",
      "\n",
      "[289 rows x 1 columns]\n",
      "      Population\n",
      "Year            \n",
      "2024     5464158\n",
      "2025     5473495\n",
      "2026     5482414\n",
      "2027     5490340\n",
      "2028     5497527\n",
      "2029     5503826\n",
      "2030     5508990\n",
      "2031     5512969\n",
      "2032     5515632\n",
      "2033     5517185\n",
      "2034     5517705\n",
      "2035     5517010\n",
      "2036     5515037\n",
      "2037     5512045\n",
      "2038     5507972\n",
      "2039     5502793\n",
      "2040     5496740\n",
      "2041     5489938\n",
      "2042     5482140\n",
      "2043     5473327\n",
      "2044     5463902\n",
      "2045     5453460\n",
      "2046     5442148\n",
      "2047     5429952\n",
      "2048     5416499\n",
      "2049     5402030\n",
      "2050     5386454\n"
     ]
    }
   ],
   "source": [
    "#%%\n",
    "#* Import all population datasets\n",
    "\n",
    "population_1600s = pd.read_excel(\n",
    "    directory_path / 'data' / 'raw_data' / 'Population' / 'raw_pop_1600_1650.xlsx',\n",
    "    index_col=0)\n",
    "\n",
    "population_time_series = pd.read_excel(\n",
    "    directory_path / 'data' / 'raw_data' / 'Population' / 'population_time_series.xlsx',\n",
    "    index_col=0)\n",
    "\n",
    "population_projections = pd.read_excel(\n",
    "    directory_path / 'data' / 'raw_data' / 'Population' / 'population_projections.xlsx',\n",
    "    index_col=0)\n",
    "\n",
    "#* Display datasets to check how their structure look\n",
    "print(population_1600s)\n",
    "print(population_time_series)\n",
    "print(population_projections)"
   ]
  },
  {
   "cell_type": "code",
   "execution_count": 6,
   "metadata": {},
   "outputs": [
    {
     "name": "stdout",
     "output_type": "stream",
     "text": [
      "      Personer per privathusholdning\n",
      "1960                            3.27\n",
      "1970                            2.94\n",
      "1980                            2.66\n",
      "1990                            2.40\n",
      "2001                            2.29\n",
      "2005                            2.27\n",
      "2006                            2.26\n",
      "2007                            2.25\n",
      "2008                            2.23\n",
      "2009                            2.22\n",
      "2010                            2.22\n",
      "2011                            2.22\n",
      "2012                            2.22\n",
      "2013                            2.21\n",
      "2014                            2.20\n",
      "2015                            2.20\n",
      "2016                            2.19\n",
      "2017                            2.19\n",
      "2018                            2.17\n",
      "2019                            2.16\n",
      "2020                            2.15\n",
      "2021                            2.13\n",
      "2022                            2.12\n",
      "2023                            2.11\n",
      "      Personer per husholdning\n",
      "Year                          \n",
      "1920                      4.30\n",
      "1930                      3.98\n",
      "1946                      3.36\n",
      "1950                      3.25\n",
      "1960                      3.27\n",
      "1970                      2.94\n",
      "1980                      2.66\n",
      "1990                      2.40\n",
      "      PpD\n",
      "Year     \n",
      "1801 5.40\n",
      "1874 4.70\n",
      "1900 4.30\n"
     ]
    }
   ],
   "source": [
    "#%%\n",
    "#* Import all PpD datasets\n",
    "\n",
    "PpD_2000s = pd.read_excel(\n",
    "    directory_path / 'data' / 'raw_data' / 'PpD' / 'raw_PpD_2000s.xlsx',\n",
    "    index_col=0, skiprows=[0, 1, 27, 28, 29, 30, 31, 32, 33, 34, 35, 36, 37, 38, 39, 40, 41, 42, 43, 44, 45, 46, 47, 48, 49, 50, 51, 52, 53, 54, 55, 56, 57, 58, 59, 60, 61, 62, 63, 64, 65, 66, 67, 68, 69, 70, 71, 72])\n",
    "\n",
    "PpD_1900s = pd.read_excel(\n",
    "    directory_path / 'data' / 'raw_data' / 'PpD' / 'raw_PpD_1900s.xlsx',\n",
    "    index_col=0, skiprows=[0, 1, 11, 12, 13, 14, 15, 16, 17, 18, 19, 20, 21, 22, 23, 24, 25, 26, 27, 28, 29, 30, 31, 32, 33, 34, 35, 36, 37, 38, 39, 40, 41, 42, 43, 44, 45, 46, 47, 48, 49, 50, 51, 52, 53, 54, 55])\n",
    "\n",
    "PpD_1800s = pd.read_excel(\n",
    "    directory_path / 'data' / 'raw_data' / 'PpD' / 'raw_PpD_1800_1900.xlsx',\n",
    "    index_col=0)\n",
    "\n",
    "#* Display datasets to check how their structure look\n",
    "print(PpD_2000s)\n",
    "print(PpD_1900s)\n",
    "print(PpD_1800s)"
   ]
  },
  {
   "cell_type": "code",
   "execution_count": 7,
   "metadata": {},
   "outputs": [
    {
     "name": "stdout",
     "output_type": "stream",
     "text": [
      "   Unnamed: 0  SFH\n",
      "0        1890  254\n",
      "1        1963  228\n",
      "2        1975  152\n",
      "3        1985  123\n",
      "4        1995  159\n",
      "5        2005  322\n",
      "6        2012  184\n",
      "   Unnamed: 0   TH\n",
      "0        1890  108\n",
      "1        1963   99\n",
      "2        1975  119\n",
      "3        1985  113\n",
      "4        1995  101\n",
      "5        2005  103\n",
      "6        2012   99\n",
      "   Unnamed: 0  AB\n",
      "0        1890  75\n",
      "1        1963  64\n",
      "2        1975  94\n",
      "3        1985  76\n",
      "4        1995  69\n",
      "5        2005  76\n",
      "6        2012  67\n"
     ]
    }
   ],
   "source": [
    "#%%\n",
    "#* Import the UFApD as three seperate datasets for the diff types\n",
    "\n",
    "UFApD_raw_SFH = pd.read_excel(\n",
    "    directory_path / 'data' / 'raw_data' / 'UFApD' / 'raw_UFApD.xlsx',\n",
    "    usecols='A, B')\n",
    "\n",
    "UFApD_raw_TH = pd.read_excel(\n",
    "    directory_path / 'data' / 'raw_data' / 'UFApD' / 'raw_UFApD.xlsx',\n",
    "    usecols='A, C')\n",
    "\n",
    "UFApD_raw_AB = pd.read_excel(\n",
    "    directory_path / 'data' / 'raw_data' / 'UFApD' / 'raw_UFApD.xlsx',\n",
    "    usecols='A, D')\n",
    "\n",
    "#* Display datasets to check how their structure look\n",
    "print(UFApD_raw_SFH)\n",
    "print(UFApD_raw_TH)\n",
    "print(UFApD_raw_AB)"
   ]
  },
  {
   "cell_type": "code",
   "execution_count": 8,
   "metadata": {},
   "outputs": [
    {
     "name": "stderr",
     "output_type": "stream",
     "text": [
      "C:\\Users\\grace\\AppData\\Local\\Temp\\ipykernel_4000\\2149817756.py:5: DeprecationWarning: `np.float` is a deprecated alias for the builtin `float`. To silence this warning, use `float` by itself. Doing this will not modify any behavior and is safe. If you specifically wanted the numpy scalar type, use `np.float64` here.\n",
      "Deprecated in NumPy 1.20; for more details and guidance: https://numpy.org/devdocs/release/1.20.0-notes.html#deprecations\n",
      "  index_col=0, dtype={'Std_dev': np.float})\n"
     ]
    }
   ],
   "source": [
    "#%%\n",
    "# Import all Dwelling Lifetime datasets (might not be needed)\n",
    "lifetime_data = pd.read_excel(\n",
    "    directory_path / 'data' / 'raw_data' / 'Dwelling_Lifetime' / 'lifetime_raw_data_new.xlsx',\n",
    "    index_col=0, dtype={'Std_dev': np.float})"
   ]
  },
  {
   "cell_type": "code",
   "execution_count": 9,
   "metadata": {},
   "outputs": [],
   "source": [
    "#%%\n",
    "#* Import all Energy Intensity datasets"
   ]
  },
  {
   "cell_type": "code",
   "execution_count": 10,
   "metadata": {},
   "outputs": [],
   "source": [
    "#%%\n",
    "#* Import all Carbon Intensity datasets\n",
    "\n",
    "carbon_intensity_raw = pd.read_excel(\n",
    "    directory_path / 'data' / 'raw_data' / 'Carbon_Intensity' / 'raw_energy_and_carbon_intensity.xlsx',\n",
    "    sheet_name= 'Sheet2', index_col=[0,1,2], skiprows=[0])\n"
   ]
  },
  {
   "cell_type": "code",
   "execution_count": 11,
   "metadata": {},
   "outputs": [],
   "source": [
    "#%%\n",
    "#* Import all Type Split datasets\n",
    "\n",
    "# Read the Excel file, only Number of dwellings (#)\n",
    "# Ignoring Number of buildings (#) and Utility floor space (1000 m²)\n",
    "usecols = [0] + list(range(5, 9)) # Ignore the unwanted colums\n",
    "skiprows = 0, # Ignore the header\n",
    "##data = pd.read_excel(file, header=0, usecols=usecols, skiprows=skiprows)\n",
    "data = pd.read_excel(\n",
    "    directory_path / 'data' / 'raw_data' / 'Type_Split' / 'raw_type_split.xlsx',\n",
    "    header=0, usecols=usecols, skiprows=skiprows)"
   ]
  },
  {
   "cell_type": "code",
   "execution_count": 12,
   "metadata": {},
   "outputs": [],
   "source": [
    "#%%\n",
    "#* Import all Renovation datasets"
   ]
  },
  {
   "cell_type": "markdown",
   "metadata": {},
   "source": [
    "# Clean the datasets as necessary"
   ]
  },
  {
   "cell_type": "code",
   "execution_count": 13,
   "metadata": {},
   "outputs": [
    {
     "name": "stdout",
     "output_type": "stream",
     "text": [
      "      PpD\n",
      "Year     \n",
      "2001 2.29\n",
      "2005 2.27\n",
      "2006 2.26\n",
      "2007 2.25\n",
      "2008 2.23\n",
      "2009 2.22\n",
      "2010 2.22\n",
      "2011 2.22\n",
      "2012 2.22\n",
      "2013 2.21\n",
      "2014 2.20\n",
      "2015 2.20\n",
      "2016 2.19\n",
      "2017 2.19\n",
      "2018 2.17\n",
      "2019 2.16\n",
      "2020 2.15\n",
      "2021 2.13\n",
      "2022 2.12\n",
      "2023 2.11\n",
      "      PpD\n",
      "Year     \n",
      "1920 4.30\n",
      "1930 3.98\n",
      "1946 3.36\n",
      "1950 3.25\n",
      "1960 3.27\n",
      "1970 2.94\n",
      "1980 2.66\n",
      "1990 2.40\n",
      "      PpD\n",
      "Year     \n",
      "1801 5.40\n",
      "1874 4.70\n",
      "1900 4.30\n"
     ]
    }
   ],
   "source": [
    "#* Cleaning the PpD datasets\n",
    "# standardize the column labels\n",
    "PpD_2000s = PpD_2000s.rename(columns={'Personer per privathusholdning': 'PpD'})\n",
    "PpD_1900s = PpD_1900s.rename(columns={'Personer per husholdning': 'PpD'})\n",
    "\n",
    "# standardize the index names\n",
    "PpD_2000s.index.name = 'Year'\n",
    "\n",
    "# drop reduntant datapoints in PpD_2000s\n",
    "PpD_2000s = PpD_2000s.drop(index=[1960, 1970, 1980, 1990])\n",
    "\n",
    "# print datasets for quality check\n",
    "print(PpD_2000s)\n",
    "print(PpD_1900s)\n",
    "print(PpD_1800s)"
   ]
  },
  {
   "cell_type": "code",
   "execution_count": 14,
   "metadata": {},
   "outputs": [
    {
     "name": "stdout",
     "output_type": "stream",
     "text": [
      "      UFApD\n",
      "Year       \n",
      "1890    254\n",
      "1963    228\n",
      "1975    152\n",
      "1985    123\n",
      "1995    159\n",
      "2005    322\n",
      "2012    184\n",
      "      UFApD\n",
      "Year       \n",
      "1890    108\n",
      "1963     99\n",
      "1975    119\n",
      "1985    113\n",
      "1995    101\n",
      "2005    103\n",
      "2012     99\n",
      "      UFApD\n",
      "Year       \n",
      "1890     75\n",
      "1963     64\n",
      "1975     94\n",
      "1985     76\n",
      "1995     69\n",
      "2005     76\n",
      "2012     67\n"
     ]
    }
   ],
   "source": [
    "#* Cleaning UFApD\n",
    "\n",
    "UFApD_raw_SFH.rename(columns={'Unnamed: 0': 'Year', 'SFH': 'UFApD'}, inplace=True)\n",
    "UFApD_raw_TH.rename(columns={'Unnamed: 0': 'Year', 'TH': 'UFApD'}, inplace=True)\n",
    "UFApD_raw_AB.rename(columns={'Unnamed: 0': 'Year', 'AB': 'UFApD'}, inplace=True)\n",
    "\n",
    "UFApD_raw_SFH = UFApD_raw_SFH.set_index('Year')\n",
    "UFApD_raw_TH = UFApD_raw_TH.set_index('Year')\n",
    "UFApD_raw_AB = UFApD_raw_AB.set_index('Year')\n",
    "\n",
    "print(UFApD_raw_SFH)\n",
    "print(UFApD_raw_TH)\n",
    "print(UFApD_raw_AB)"
   ]
  },
  {
   "cell_type": "code",
   "execution_count": 15,
   "metadata": {},
   "outputs": [],
   "source": [
    "#Calculate standard devision column by multiplying mean lifetime with sigma:\n",
    "lifetime_data['std_dev'] = lifetime_data['Average lifetime'] * lifetime_data['Sigma']\n",
    "std_dev = lifetime_data['std_dev']\n",
    "\n",
    "# Remove the 'sigma' column\n",
    "lifetime_data = lifetime_data.drop('Sigma', axis=1)"
   ]
  },
  {
   "cell_type": "markdown",
   "metadata": {},
   "source": [
    "# Combine the datasets into one per parameter"
   ]
  },
  {
   "cell_type": "code",
   "execution_count": 16,
   "metadata": {},
   "outputs": [],
   "source": [
    "historical_pop = pd.concat([population_1600s, population_time_series,population_projections])"
   ]
  },
  {
   "cell_type": "code",
   "execution_count": 17,
   "metadata": {},
   "outputs": [
    {
     "name": "stdout",
     "output_type": "stream",
     "text": [
      "      PpD\n",
      "Year     \n",
      "1801 5.40\n",
      "1874 4.70\n",
      "1900 4.30\n",
      "1920 4.30\n",
      "1930 3.98\n",
      "1946 3.36\n",
      "1950 3.25\n",
      "1960 3.27\n",
      "1970 2.94\n",
      "1980 2.66\n",
      "1990 2.40\n",
      "2001 2.29\n",
      "2005 2.27\n",
      "2006 2.26\n",
      "2007 2.25\n",
      "2008 2.23\n",
      "2009 2.22\n",
      "2010 2.22\n",
      "2011 2.22\n",
      "2012 2.22\n",
      "2013 2.21\n",
      "2014 2.20\n",
      "2015 2.20\n",
      "2016 2.19\n",
      "2017 2.19\n",
      "2018 2.17\n",
      "2019 2.16\n",
      "2020 2.15\n",
      "2021 2.13\n",
      "2022 2.12\n",
      "2023 2.11\n"
     ]
    }
   ],
   "source": [
    "#%%\n",
    "#* Combine the PpD datasets into one time series\n",
    "historical_PpD = pd.concat([PpD_1800s, PpD_1900s,PpD_2000s])\n",
    "\n",
    "# print for quality check\n",
    "print(historical_PpD)"
   ]
  },
  {
   "cell_type": "code",
   "execution_count": 18,
   "metadata": {},
   "outputs": [
    {
     "name": "stdout",
     "output_type": "stream",
     "text": [
      "SFH_ratio   52.22%\n",
      "TH_ratio    20.62%\n",
      "AB_ratio    27.16%\n",
      "dtype: float64\n"
     ]
    }
   ],
   "source": [
    "# Creating a pandas series object of the last row with SUM of Dwellings in 2012\n",
    "SUM_dwellings = pd.Series([1278960, 505143, 665107, 2449210])\n",
    "SUM_dwellings.index = ['SFH', 'TH', 'AB', 'Total'] # Assigning names to the values\n",
    "\n",
    "# Dividing SUM values for each type, SFH, TH, and AB, by Total and storing them as new parameters\n",
    "SUM_dwellings['SFH_ratio'] = SUM_dwellings['SFH'] / SUM_dwellings['Total']\n",
    "SUM_dwellings['TH_ratio'] = SUM_dwellings['TH'] / SUM_dwellings['Total']\n",
    "SUM_dwellings['AB_ratio'] = SUM_dwellings['AB'] / SUM_dwellings['Total']\n",
    "\n",
    "# Display the ratios as both decimals and percentages\n",
    "#pd.set_option('display.float_format', '{:.2f}'.format) # To display option to show numbers in standard decimal notation\n",
    "pd.set_option('display.float_format', '{:.2%}'.format)\n",
    "\n",
    "# Display the result\n",
    "print(SUM_dwellings[['SFH_ratio', 'TH_ratio', 'AB_ratio']])\n",
    "\n",
    "new_data = {'SFH_ratio': [0.5222], 'TH_ratio': [0.2062], 'AB_ratio': [0.2716]}\n",
    "\n",
    "# Create a DataFrame\n",
    "Type_Split_ratios = pd.DataFrame(new_data)"
   ]
  },
  {
   "cell_type": "markdown",
   "metadata": {},
   "source": [
    "# Export the new datasets into the cleaned and combined data folder"
   ]
  },
  {
   "cell_type": "code",
   "execution_count": 19,
   "metadata": {},
   "outputs": [],
   "source": [
    "historical_PpD.to_excel(directory_path / \n",
    "                 'data/cleaned_and_combined_data/PpD/historical_PpD.xlsx')"
   ]
  },
  {
   "cell_type": "code",
   "execution_count": 20,
   "metadata": {},
   "outputs": [],
   "source": [
    "UFApD_raw_SFH.to_excel(directory_path / \n",
    "                 'data/cleaned_and_combined_data/UFApD/historical_UFApD_SFH.xlsx')\n",
    "UFApD_raw_TH.to_excel(directory_path / \n",
    "                 'data/cleaned_and_combined_data/UFApD/historical_UFApD_TH.xlsx')\n",
    "UFApD_raw_AB.to_excel(directory_path / \n",
    "                 'data/cleaned_and_combined_data/UFApD/historical_UFApD_AB.xlsx')"
   ]
  },
  {
   "cell_type": "code",
   "execution_count": 21,
   "metadata": {},
   "outputs": [],
   "source": [
    "carbon_intensity_raw.to_excel(directory_path / \n",
    "                 'data/cleaned_and_combined_data/Carbon_Intensity/Carbon_Intensity_Constants.xlsx')"
   ]
  },
  {
   "cell_type": "code",
   "execution_count": 22,
   "metadata": {},
   "outputs": [],
   "source": [
    "historical_pop.to_excel(directory_path / \n",
    "                 'data/cleaned_and_combined_data/Population/Norway_population_clean.xlsx')"
   ]
  },
  {
   "cell_type": "code",
   "execution_count": 23,
   "metadata": {},
   "outputs": [],
   "source": [
    "Type_Split_ratios.to_excel(directory_path / \n",
    "                 'Data/cleaned_and_combined_data/Type_Split/Type_Split_ratios.xlsx')"
   ]
  },
  {
   "cell_type": "code",
   "execution_count": 24,
   "metadata": {},
   "outputs": [],
   "source": [
    "lifetime_data.to_excel(directory_path / \n",
    "                 'Data/cleaned_and_combined_data/Dwelling_Lifetime/Cleaned_Dwelling_Lifetime.xlsx')"
   ]
  }
 ],
 "metadata": {
  "kernelspec": {
   "display_name": "TEP4221",
   "language": "python",
   "name": "python3"
  },
  "language_info": {
   "codemirror_mode": {
    "name": "ipython",
    "version": 3
   },
   "file_extension": ".py",
   "mimetype": "text/x-python",
   "name": "python",
   "nbconvert_exporter": "python",
   "pygments_lexer": "ipython3",
   "version": "3.8.16"
  }
 },
 "nbformat": 4,
 "nbformat_minor": 2
}
