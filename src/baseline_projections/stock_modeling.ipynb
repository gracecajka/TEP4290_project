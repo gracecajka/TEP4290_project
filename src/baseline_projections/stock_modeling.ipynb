{
 "cells": [
  {
   "cell_type": "code",
   "execution_count": null,
   "metadata": {},
   "outputs": [],
   "source": [
    "'''_In this script, we ..._'''"
   ]
  },
  {
   "cell_type": "code",
   "execution_count": null,
   "metadata": {},
   "outputs": [],
   "source": [
    "# -*- coding: utf-8 -*- #\n",
    "# Authors: gracecaj@stud.ntnu.no, sbaarak@stud.ntnu.no, & annakale@stud.ntnu.no\n",
    "# Date: 19/09/2023"
   ]
  },
  {
   "cell_type": "code",
   "execution_count": null,
   "metadata": {},
   "outputs": [],
   "source": [
    "#%%\n",
    "#* Import the code needed\n",
    "import os\n",
    "from pathlib import Path"
   ]
  },
  {
   "cell_type": "code",
   "execution_count": null,
   "metadata": {},
   "outputs": [],
   "source": [
    "#%%\n",
    "#* Define paths\n",
    "directory_path = Path('../../')"
   ]
  },
  {
   "cell_type": "markdown",
   "metadata": {},
   "source": [
    "# Import data needed (pop, ppd, type split)"
   ]
  },
  {
   "cell_type": "code",
   "execution_count": null,
   "metadata": {},
   "outputs": [],
   "source": [
    "pop = pd.read_excel(\n",
    "    directory_path / 'data' / 'raw_data' / 'Population' / 'norway_pop_projections.xlsx',\n",
    "    index_col=0)\n",
    "\n",
    "PpD = pd.read_excel(\n",
    "    directory_path / 'data' / 'raw_data' / 'Population' / 'norway_pop_projections.xlsx',\n",
    "    index_col=0)\n",
    "\n",
    "TS_cj = pd.read_excel(\n",
    "    directory_path / 'data' / 'raw_data' / 'Population' / 'norway_pop_projections.xlsx',\n",
    "    index_col=0)"
   ]
  },
  {
   "cell_type": "markdown",
   "metadata": {},
   "source": [
    "# Import DSM model"
   ]
  },
  {
   "cell_type": "markdown",
   "metadata": {},
   "source": [
    "# Use pop and PpD to calculate stock over time"
   ]
  },
  {
   "cell_type": "markdown",
   "metadata": {},
   "source": [
    "# Enter stock into stock driven model to get inflows by cohort over time"
   ]
  },
  {
   "cell_type": "markdown",
   "metadata": {},
   "source": [
    "# multiply inflow by type split to get inflow by type split and cohort"
   ]
  },
  {
   "cell_type": "markdown",
   "metadata": {},
   "source": [
    "# enter inflow by type split and cohort into inflow driven model to get stock by cohort and type split over time"
   ]
  }
 ],
 "metadata": {
  "language_info": {
   "name": "python"
  }
 },
 "nbformat": 4,
 "nbformat_minor": 2
}
