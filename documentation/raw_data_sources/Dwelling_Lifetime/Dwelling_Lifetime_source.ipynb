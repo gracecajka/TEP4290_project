{
 "cells": [
  {
   "cell_type": "markdown",
   "metadata": {},
   "source": [
    "# Data Source for Dwelling Lifetime"
   ]
  },
  {
   "cell_type": "markdown",
   "metadata": {},
   "source": [
    "Bergsdal, Håvard & Brattebø, Helge & Bohne, Rolf André & Müller, Daniel. (2007). Dynamic material flow analysis for Norway's dwelling stock. Building Research & Information. 35. 557-570. 10.1080/09613210701287588. "
   ]
  },
  {
   "cell_type": "markdown",
   "metadata": {},
   "source": [
    "For more data from Figure 5 from the report (Bergsdal 2007), we used the digital tool at https://www.graphreader.com/\n",
    "\n",
    "We provided the tool with a snapshot of the graph in Figure 5 (Bergsdal 2007). Maximum and minimum values for x- and y-axis where noted and multiple points on the graph where manually marked. The tool made sample curve and post-processed curve so all years where covered with the mean lifetime. The data was stored as a csv file and then an excel file. \n",
    "\n",
    "The sigma values for year 1800 and 2100 were given, 30% and 20% accordingly (Bergsdal 2007). The sigma values for year 1801-2099 where calculated with Excel to mach the trend in lifetime.\n",
    "\n",
    "Formula in Excel for sigma values: =$C$302+((B3-$B$302)/($B$2-$B$302))*($C$2-$C$302)"
   ]
  }
 ],
 "metadata": {
  "language_info": {
   "name": "python"
  }
 },
 "nbformat": 4,
 "nbformat_minor": 2
}
