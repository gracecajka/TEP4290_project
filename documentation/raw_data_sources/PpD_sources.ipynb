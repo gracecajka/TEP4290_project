{
 "cells": [
  {
   "cell_type": "markdown",
   "metadata": {},
   "source": [
    "# Data source for years 1800-1900"
   ]
  },
  {
   "cell_type": "markdown",
   "metadata": {},
   "source": [
    "Bergsdal, H., Brattebø, H., Bohne, R. A., & Müller, D. (2007). \n",
    "Dynamic material flow analysis for Norway’s dwelling stock. \n",
    "Building Research & Information, 35, 557–570. \n",
    "https://doi.org/10.1080/09613210701287588"
   ]
  },
  {
   "cell_type": "markdown",
   "metadata": {},
   "source": [
    "# Data source for years 1920-1990"
   ]
  },
  {
   "cell_type": "markdown",
   "metadata": {},
   "source": [
    "05883: Personer i privathusholdninger (avslutta serie) 1920 - 1990. Statistikkbanken. (2005, December 5). SSB. \n",
    "https://www.ssb.no/statbank/table/05883"
   ]
  },
  {
   "cell_type": "markdown",
   "metadata": {},
   "source": [
    "# Data source for years 2001-2023"
   ]
  },
  {
   "cell_type": "markdown",
   "metadata": {},
   "source": [
    "06076: Privathusholdninger, personer i privathusholdninger og personer \n",
    "per privathusholdning (F) 1960 - 2023. Statistikkbanken. \n",
    "(2023, September 22). SSB. \n",
    "https://www.ssb.no/statbank/table/06076"
   ]
  }
 ],
 "metadata": {
  "language_info": {
   "name": "python"
  }
 },
 "nbformat": 4,
 "nbformat_minor": 2
}
