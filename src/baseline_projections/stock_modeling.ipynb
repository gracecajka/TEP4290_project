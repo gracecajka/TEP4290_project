{
 "cells": [
  {
   "cell_type": "code",
   "execution_count": null,
   "metadata": {},
   "outputs": [],
   "source": [
    "'''_In this script, we ..._'''"
   ]
  },
  {
   "cell_type": "code",
   "execution_count": null,
   "metadata": {},
   "outputs": [],
   "source": [
    "# -*- coding: utf-8 -*- #\n",
    "# Authors: gracecaj@stud.ntnu.no, sbaarak@stud.ntnu.no, & annakale@stud.ntnu.no\n",
    "# Date: 19/09/2023"
   ]
  },
  {
   "cell_type": "code",
   "execution_count": null,
   "metadata": {},
   "outputs": [],
   "source": [
    "#%%\n",
    "#* Import the code needed\n",
    "import os\n",
    "from pathlib import Path\n",
    "import numpy as np\n",
    "import pandas as pd"
   ]
  },
  {
   "cell_type": "code",
   "execution_count": null,
   "metadata": {},
   "outputs": [],
   "source": [
    "#%%\n",
    "#* Define paths\n",
    "directory_path = Path('../../')"
   ]
  },
  {
   "cell_type": "markdown",
   "metadata": {},
   "source": [
    "# Import data needed (pop, ppd, type split)"
   ]
  },
  {
   "cell_type": "code",
   "execution_count": null,
   "metadata": {},
   "outputs": [],
   "source": [
    "pop = pd.read_excel(\n",
    "    directory_path / 'data' / 'regression_data' / 'Population' / 'regression_Population.xlsx',\n",
    "    index_col=0)\n",
    "\n",
    "PpD = pd.read_excel(\n",
    "    directory_path / 'data' / 'regression_data' / 'PpD' / 'regression_PpD.xlsx',\n",
    "    index_col=0)\n",
    "\n",
    "#! Need to have type split ready in excel form\n",
    "TS_cj = pd.read_excel(\n",
    "    directory_path / 'data' / '__' / '__' / '__.xlsx',\n",
    "    index_col=0)\n",
    "\n",
    "lifetime = pd.read_excel(\n",
    "    directory_path / 'data' / 'regression_data' / 'Dwelling_Lifetime' / 'Dwelling_Lifetime_Final_Data.xlsx',\n",
    "    index_col=0, usecols = 'lifetime')\n",
    "\n",
    "\n",
    "#! I don't think this value is actually standard deviation, but something else. Double check Bergsdal paper\n",
    "lifetime_standard_deviation = pd.read_excel(\n",
    "    directory_path / 'data' / 'regression_data' / 'Dwellling_Lifetime' / 'Dwelling_Lifetime_Final_Data.xlsx',\n",
    "    index_col=0, usecols = 'std_dev')\n"
   ]
  },
  {
   "cell_type": "markdown",
   "metadata": {},
   "source": [
    "# Import DSM model\n"
   ]
  },
  {
   "cell_type": "code",
   "execution_count": null,
   "metadata": {},
   "outputs": [],
   "source": [
    "# getting the name of the directory where the this file is present.\n",
    "current = os.path.dirname(os.path.realpath('this'))\n",
    " \n",
    "# Getting the parent directory name where the current directory is present.\n",
    "parent = os.path.dirname(current)\n",
    "#make the UA path\n",
    "module_path = parent + '/modules'\n",
    "#append path to options to import from\n",
    "sys.path.append(module_path)\n",
    "\n",
    "import dynamic_stock_model as dsm"
   ]
  },
  {
   "cell_type": "markdown",
   "metadata": {},
   "source": [
    "# Use pop and PpD to calculate stock over time"
   ]
  },
  {
   "cell_type": "code",
   "execution_count": null,
   "metadata": {},
   "outputs": [],
   "source": [
    "stock_t = np.multiply(pop,PpD)\n",
    "\n",
    "stock_t_SFH = np.multiply(stock_t,TS_cj['SFH'])\n",
    "stock_t_TH = np.multiply(stock_t,TS_cj['TH'])\n",
    "stock_t_AB = np.multiply(stock_t,TS_cj['AB'])"
   ]
  },
  {
   "cell_type": "markdown",
   "metadata": {},
   "source": [
    "# Enter stock into stock driven model to get inflows by cohort over time"
   ]
  },
  {
   "cell_type": "code",
   "execution_count": null,
   "metadata": {},
   "outputs": [],
   "source": [
    "from dynamic_stock_model import DynamicStockModel\n",
    "\n",
    "#! The following function and runs of it should effectively iterate things over for each of the types\n",
    "\n",
    "def stock_model(stock):\n",
    "    dwellings_stock_driven = DynamicStockModel(t=np.arange(1600, 2050),\n",
    "                         s=stock,\n",
    "                         lt={'Type': 'Normal', \n",
    "                             'Mean': [lifetime],\n",
    "                             'StdDev':[lifetime_standard_deviation] \n",
    "                             }\n",
    "                        )\n",
    "    inflow_tc = dwellings_stock_driven.i_c\n",
    "     \n",
    "    inflow_tcj = np.multiply(inflow_tc,TS_cj)\n",
    "    \n",
    "    dwellings_inflow_driven = DynamicStockModel(t=np.arange(1600, 2050),\n",
    "                        i=inflow_tcj,\n",
    "                        lt={'Type': 'Normal', \n",
    "                            'Mean': np.array([lifetime]),\n",
    "                            'StdDev': np.array([lifetime_standard_deviation]) \n",
    "                            }\n",
    "                        )\n",
    "    dwellings_inflow_driven.compute_s_c_inflow_driven()\n",
    "    return dwellings_inflow_driven.s_c\n",
    "\n",
    "s_c_SFH = stock_model(stock_t_SFH)\n",
    "s_c_TH = stock_model(stock_t_TH)\n",
    "s_c_AB = stock_model(stock_t_AB)\n",
    "\n",
    "#! make some kind of stacked line chart with this. also compute sum\n",
    "\n",
    "s_c_total = s_c_SFH + s_c_TH + s_c_AB\n",
    "\n",
    "\n",
    "\n",
    "\n",
    "#! I'm not sure if we can use a vector of different lifetime values or if there can only be one constant. Check DSM module\n",
    "\n",
    "dwellings_stock_driven = DynamicStockModel(t=np.arange(1600, 2050),\n",
    "                         s=stock_t,\n",
    "                         lt={'Type': 'Normal', \n",
    "                             'Mean': [lifetime],\n",
    "                             'StdDev':[lifetime_standard_deviation] \n",
    "                             }\n",
    "                        )\n",
    "\n",
    "#! I think the following will work but I'm not 100% sure\n",
    "# Calculate the inflow\n",
    "inflow_tc = dwellings_stock_driven.i_c"
   ]
  },
  {
   "cell_type": "markdown",
   "metadata": {},
   "source": [
    "# multiply inflow by type split to get inflow by type split and cohort"
   ]
  },
  {
   "cell_type": "code",
   "execution_count": null,
   "metadata": {},
   "outputs": [],
   "source": [
    "inflow_tcj = np.multiply(inflow_tc,TS_cj)"
   ]
  },
  {
   "cell_type": "markdown",
   "metadata": {},
   "source": [
    "# enter inflow by type split and cohort into inflow driven model to get stock by cohort and type split over time"
   ]
  },
  {
   "cell_type": "code",
   "execution_count": null,
   "metadata": {},
   "outputs": [],
   "source": [
    "# Define our dynamic stock model using our data and parameters\n",
    "dwellings_inflow_driven = DynamicStockModel(t=np.arange(1600, 2050),\n",
    "                        i=inflow_tcj,\n",
    "                        lt={'Type': 'Normal', \n",
    "                            'Mean': np.array([lifetime]),\n",
    "                            'StdDev': np.array([lifetime_standard_deviation]) \n",
    "                            }\n",
    "                        )\n",
    "\n",
    "\n",
    "#! I think the following will work but I'm not 100% sure\n",
    "# Calculate the stock by cohort\n",
    "dwellings_inflow_driven.compute_s_c_inflow_driven()\n",
    "s_c = dwellings_inflow_driven.s_c\n"
   ]
  }
 ],
 "metadata": {
  "language_info": {
   "name": "python"
  }
 },
 "nbformat": 4,
 "nbformat_minor": 2
}
