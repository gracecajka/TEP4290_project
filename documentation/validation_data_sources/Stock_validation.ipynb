{
 "cells": [
  {
   "cell_type": "markdown",
   "metadata": {},
   "source": [
    "New (Friday 15th of March) validation data for stock of dwellings:"
   ]
  },
  {
   "cell_type": "markdown",
   "metadata": {},
   "source": [
    "https://www.ssb.no/en/statbank/table/06266/tableViewLayout1/"
   ]
  }
 ],
 "metadata": {
  "language_info": {
   "name": "python"
  }
 },
 "nbformat": 4,
 "nbformat_minor": 2
}
