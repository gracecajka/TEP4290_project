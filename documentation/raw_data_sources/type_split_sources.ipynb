{
 "cells": [
  {
   "cell_type": "markdown",
   "metadata": {},
   "source": [
    "# Data source for Type Split all years"
   ]
  },
  {
   "cell_type": "markdown",
   "metadata": {},
   "source": [
    "Helge Brattebø, Reyn O’Born, Nina Holck Sandberg, Magnus I. Vestrum, \n",
    "& Igor Sartori. (2016, March 30). NO Norway—Country Page. Episcope.Eu. \n",
    "https://episcope.eu/fileadmin/episcope/public/docs/pilot_actions/NO_EPISCOPE_NationalCaseStudy_NTNU_SINTEF.pdf"
   ]
  }
 ],
 "metadata": {
  "language_info": {
   "name": "python"
  }
 },
 "nbformat": 4,
 "nbformat_minor": 2
}
