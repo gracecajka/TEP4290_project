{
 "cells": [
  {
   "cell_type": "markdown",
   "metadata": {},
   "source": [
    "# Data source for Outflow of Dwellings year 2009-2023"
   ]
  },
  {
   "cell_type": "markdown",
   "metadata": {},
   "source": [
    "10783: Building statistics. Demolition of dwellings, by type of building \n",
    "(M) 2009 - 2023. Statbank Norway. (2024, February 15). SSB. \n",
    "https://www.ssb.no/en/statbank/table/10783/"
   ]
  }
 ],
 "metadata": {
  "language_info": {
   "name": "python"
  }
 },
 "nbformat": 4,
 "nbformat_minor": 2
}
