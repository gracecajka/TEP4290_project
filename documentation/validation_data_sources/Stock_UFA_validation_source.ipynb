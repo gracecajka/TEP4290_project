{
 "cells": [
  {
   "cell_type": "markdown",
   "metadata": {},
   "source": [
    "# Data source for Stock of UFA year 1960-2015"
   ]
  },
  {
   "cell_type": "markdown",
   "metadata": {},
   "source": [
    "Sandberg, N. H., Sartori, I., Vestrum, M. I., & Brattebø, H. (2016). \n",
    "Explaining the historical energy use in dwelling stocks with a segmented \n",
    "dynamic model: Case study of Norway 1960–2015. \n",
    "Energy and Buildings, 132, 141–153. \n",
    "https://doi.org/10.1016/j.enbuild.2016.05.099"
   ]
  }
 ],
 "metadata": {
  "language_info": {
   "name": "python"
  }
 },
 "nbformat": 4,
 "nbformat_minor": 2
}
