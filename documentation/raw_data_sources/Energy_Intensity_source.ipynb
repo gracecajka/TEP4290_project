{
 "cells": [
  {
   "cell_type": "markdown",
   "metadata": {},
   "source": [
    "# Data source Energy Intensity all years"
   ]
  },
  {
   "cell_type": "markdown",
   "metadata": {},
   "source": [
    "Norway—Countries & Regions. (2021). IEA. \n",
    "https://www.iea.org/countries/norway/emissions"
   ]
  }
 ],
 "metadata": {
  "language_info": {
   "name": "python"
  }
 },
 "nbformat": 4,
 "nbformat_minor": 2
}
