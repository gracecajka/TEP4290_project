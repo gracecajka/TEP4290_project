{
 "cells": [
  {
   "cell_type": "markdown",
   "metadata": {},
   "source": [
    "# Data source for Energy Use year 1960-1989"
   ]
  },
  {
   "cell_type": "markdown",
   "metadata": {},
   "source": [
    "Ann Christin Bøeng. (2005). Energibruk i husholdninger 1930-2004 og \n",
    "forbruk etter husholdningstype (p. 54). SSB. \n",
    "https://www.ssb.no/energi-og-industri/artikler-og-publikasjoner/energibruk-i-husholdninger-1930-2004-og-forbruk-etter-husholdningstype"
   ]
  },
  {
   "cell_type": "markdown",
   "metadata": {},
   "source": [
    "# Data source for Energy Use year 1990-2022"
   ]
  },
  {
   "cell_type": "markdown",
   "metadata": {},
   "source": [
    "13929: Energiforbruk i husholdninger og fritidshus 1990 - 2022. \n",
    "Statistikkbanken. (2023, September 15). SSB. \n",
    "https://www.ssb.no/statbank/table/13929/"
   ]
  }
 ],
 "metadata": {
  "language_info": {
   "name": "python"
  }
 },
 "nbformat": 4,
 "nbformat_minor": 2
}
