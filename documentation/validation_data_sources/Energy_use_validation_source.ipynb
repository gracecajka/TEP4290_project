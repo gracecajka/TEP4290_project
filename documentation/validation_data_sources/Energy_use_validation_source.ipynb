{
 "cells": [
  {
   "cell_type": "code",
   "execution_count": null,
   "metadata": {},
   "outputs": [],
   "source": [
    "https://www.ssb.no/en/statbank/table/10572/tableViewLayout1/\n",
    "\n",
    "Updated 2014-07-11 10:00\n",
    "\n",
    "Unit Total energy consumption (kWh): kWh\n",
    "\n",
    "Reference time Total energy consumption (kWh): 31.12.\n",
    "\n",
    "Source Statistics Norway"
   ]
  },
  {
   "cell_type": "markdown",
   "metadata": {},
   "source": [
    "NEW DATA for 1990-2022:\n",
    "\n",
    "SSB table:\n",
    "https://www.ssb.no/statbank/table/13929/tableViewLayout1/\n",
    "\n",
    "13929: Energiforbruk i husholdninger og fritidshus, etter år og statistikkvariabel\n",
    "\n",
    "I energibalansen er kun energi brukt til boliger og fritidsboliger inkludert under sektoren 'Husholdninger', mens 'husholdninger' i energiregnskapet også inkluderer drivstoff til personbiler og fritidsbåter. Denne tabellen omfatter energibrukstall fra begge disse tabellene.\n",
    "Dette tilsvarer tall for husholdninger i energibalansen, tabell 11561.\n",
    "\n",
    "Sist endret:\n",
    "Forbruk av energi i boliger og fritidsboliger, i alt (GWh):\n",
    "20230915 08:00\n",
    "\n",
    "Kilde:\n",
    "Statistisk sentralbyrå\n",
    "\n",
    "Kontakt:\n",
    "Forbruk av energi i boliger og fritidsboliger, i alt (GWh):\n",
    "Sigrun Kristoffersen, Statistisk sentralbyrå\n",
    " +47 409 02 313\n",
    "sek@ssb.no\n",
    "\n",
    "Ann Christin Bøeng, Statistisk sentralbyrå\n",
    " +47 408 11 505\n",
    "abg@ssb.no\n"
   ]
  }
 ],
 "metadata": {
  "language_info": {
   "name": "python"
  }
 },
 "nbformat": 4,
 "nbformat_minor": 2
}
