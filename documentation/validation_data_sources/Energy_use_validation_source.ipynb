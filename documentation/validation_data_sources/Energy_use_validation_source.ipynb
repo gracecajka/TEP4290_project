{
 "cells": [
  {
   "cell_type": "code",
   "execution_count": null,
   "metadata": {},
   "outputs": [],
   "source": [
    "https://www.ssb.no/en/statbank/table/10572/tableViewLayout1/\n",
    "\n",
    "Updated 2014-07-11 10:00\n",
    "\n",
    "Unit Total energy consumption (kWh): kWh\n",
    "\n",
    "Reference time Total energy consumption (kWh): 31.12.\n",
    "\n",
    "Source Statistics Norway"
   ]
  }
 ],
 "metadata": {
  "language_info": {
   "name": "python"
  }
 },
 "nbformat": 4,
 "nbformat_minor": 2
}
